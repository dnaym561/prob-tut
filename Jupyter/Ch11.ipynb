{
 "cells": [
  {
   "cell_type": "markdown",
   "metadata": {},
   "source": [
    "# 第11章 カルマンフィルタ"
   ]
  },
  {
   "cell_type": "code",
   "execution_count": 11,
   "metadata": {},
   "outputs": [],
   "source": [
    "import numpy as np\n",
    "from plot_filtering_test import * #実行フォルダに plot_filtering_test.py を置いてインポートします．"
   ]
  },
  {
   "cell_type": "markdown",
   "metadata": {},
   "source": [
    "#### 乱数シードの指定（テキスト掲載用）\n",
    "拙著に掲載の標本路を再現するため，シードを明示しておきます．本来は必要ないので，コメントアウトしてもいいです．"
   ]
  },
  {
   "cell_type": "code",
   "execution_count": 12,
   "metadata": {},
   "outputs": [],
   "source": [
    "np.random.seed(123)"
   ]
  },
  {
   "cell_type": "markdown",
   "metadata": {},
   "source": [
    "## クラスと関数"
   ]
  },
  {
   "cell_type": "markdown",
   "metadata": {},
   "source": [
    "### 算法11.7 （定常カルマンフィルタ）"
   ]
  },
  {
   "cell_type": "code",
   "execution_count": 13,
   "metadata": {},
   "outputs": [],
   "source": [
    "from class_ssKF import * #実行フォルダに class_ssKF.py を置いてインポートします． "
   ]
  },
  {
   "cell_type": "code",
   "execution_count": 14,
   "metadata": {},
   "outputs": [
    {
     "name": "stdout",
     "output_type": "stream",
     "text": [
      "import numpy as np\n",
      "from scipy.linalg import solve_discrete_are\n",
      "\n",
      "class class_ssKF: # Steady-state Kalman filter\n",
      "    \n",
      "    def __init__(s, F, G, H, Q, R, x0, cov0=None):\n",
      "        \n",
      "        ### システム行列\n",
      "        s.F = np.array(F) #状態推移行列\n",
      "        s.G = np.array(G) #駆動行列\n",
      "        s.H = np.array(H) #観測行列\n",
      "        # 雑音\n",
      "        s.Q = np.array(Q) #システム雑音の共分散行列\n",
      "        s.R = np.array(R) #観測雑音の共分散行列\n",
      "        \n",
      "        s.xdim = F.shape[1] #状態ベクトルの次元＝状態推移行列の列数\n",
      "        s.ydim = H.shape[0] #観測行列の行数\n",
      "        \n",
      "        ### KBFの内部状態\n",
      "        s.xf   = np.array(x0) #濾波推定値\n",
      "        s.xp   = np.array(x0) #予測推定値\n",
      "        s.cov0 = cov0         #共分散行列\n",
      "        s.K    = None         #カルマンゲイン\n",
      "\n",
      "        ### 定常カルマンフィルタの導出\n",
      "        RicA = s.F.T\n",
      "        RicB = s.H.T\n",
      "        RicQ = s.G.dot(s.Q).dot(s.G.T)\n",
      "        RicR = s.R\n",
      "        #リカッチ方程式の解\n",
      "        s.cov = solve_discrete_are(RicA, RicB, RicQ, RicR) \n",
      "        #定常カルマンゲイン\n",
      "        HSH_R = s.H.dot(s.cov).dot(s.H.T)+s.R\n",
      "        if HSH_R.ndim > 1:\n",
      "            pinv = np.linalg.pinv(HSH_R)\n",
      "        else:\n",
      "            pinv = 1.0/HSH_R\n",
      "        s.K   = s.cov.dot(s.H.T).dot(pinv) \n",
      "        print('Steady-state Kalman gain =\\n', s.K)\n",
      "\n",
      "    def recursion(s, yt, xp):\n",
      "\n",
      "        # Filtering: xf ... x_t/t\n",
      "        xf = xp + s.K.dot( yt - s.H.dot(xp) )   \n",
      "\n",
      "        # Prediction: xp ... x_t+1/t\n",
      "        xp = s.F.dot(xf)\n",
      "\n",
      "        return (xf, xp)\n",
      "    \n",
      "    ### フィルタリング\n",
      "    def filtering(s, y):\n",
      "\n",
      "        s.xf, s.xp = s.recursion(y, s.xp)\n",
      "\n",
      "    ### 安定判別\n",
      "    def stability(s):\n",
      "\n",
      "        stability_matrix = s.F - np.dot(s.K, s.H)\n",
      "        val,vec = np.linalg.eig( stability_matrix )\n",
      "        absval = np.abs(val)\n",
      "        if absval.max() < 1:\n",
      "            print( 'This filter is stable' )\n",
      "        else:\n",
      "            print( 'This filter is unstable' )\n",
      "        print( '> Eigenvalues:' )\n",
      "        for v in val:\n",
      "            print( '> ' + str(v) )\n",
      "        print( '> Their absolute values:' )\n",
      "        for av in absval:\n",
      "            print( '> ' + str(av) )\n"
     ]
    }
   ],
   "source": [
    "# 内容の確認\n",
    "for line in open('./class_ssKF.py'): print(line[:-1])"
   ]
  },
  {
   "cell_type": "markdown",
   "metadata": {},
   "source": [
    "## 11.5 数値例"
   ]
  },
  {
   "cell_type": "code",
   "execution_count": null,
   "metadata": {},
   "outputs": [],
   "source": [
    "from class_LinearSDE import * #実行フォルダに class_LinearSDE.py を置いてインポートします． "
   ]
  },
  {
   "cell_type": "code",
   "execution_count": null,
   "metadata": {},
   "outputs": [],
   "source": [
    "# 内容の確認\n",
    "#for line in open('./class_LinearSDE.py'): print(line[:-1])"
   ]
  },
  {
   "cell_type": "code",
   "execution_count": null,
   "metadata": {},
   "outputs": [],
   "source": [
    "class Vib1DOF: # 連続時間1自由度振動系，フィルタは離散時間\n",
    "    \n",
    "    def __init__(self, c=0.3, k=1.0, Δt=0.1, Qval=1e-8, Rval=0.1 ):\n",
    "        ### システムの定義\n",
    "        # 状態行列\n",
    "        self.A = np.array([[0,1],[-k,-c]])\n",
    "        # 駆動行列\n",
    "        self.D = np.array([[0],[1]]) #縦ベクトル \n",
    "        # 観測行列：1行2列と仮定\n",
    "        self.C = np.array([[0,1]])\n",
    "        # ノイズの条件\n",
    "        self.Q = np.array([[Qval]]) #スカラは1x1行列として与える\n",
    "        self.R = np.array([[Rval]]) #同上\n",
    "        ### 出力データ\n",
    "        self.tt = None   # 時刻の列\n",
    "        self.xx = None   # 状態量の時系列\n",
    "        self.yy = None   # 観測量の時系列\n",
    "        self.xxf = None  # 濾波推定値の時系列\n",
    "        self.xxni = None # 数値積分推定値の時系列\n",
    "        ### その他\n",
    "        self.Δt = Δt   # 数値積分の時間ステップ\n",
    "        \n",
    "    ### 標本路の取得\n",
    "    def get_sample_path(s, x0=[1,0], tn=200):\n",
    "        # 初期値とデータ長\n",
    "        s.x0 = np.array(x0)\n",
    "        s.tn = tn\n",
    "        sde = class_LinearSDE(s.A, s.D, s.C, s.Q, s.R, s.x0, s.Δt)\n",
    "        s.tt, s.xx, s.yy = sde.get_sample_path(tn)\n",
    "        \n",
    "    ### 濾波推定（離散時間定常カルマンフィルタ）\n",
    "    def do_filtering(s):\n",
    "        I = np.eye(len(s.x0))\n",
    "        F = I + s.Δt*s.A\n",
    "        G = np.sqrt(s.Δt)*s.D\n",
    "        H = s.C\n",
    "        x0 = s.x0\n",
    "        cov0 = None\n",
    "        kf = class_ssKF(F, G, H, s.Q, s.R, x0)\n",
    "        s.xxf = np.zeros((s.tn+1,2))\n",
    "        for t, yt in enumerate(s.yy):\n",
    "            s.xxf[t,:] = kf.xf\n",
    "            kf.filtering(yt)\n",
    "        # フィルタの安定性の確認    \n",
    "        kf.stability() \n",
    "\n",
    "    ### 数値積分による推定\n",
    "    def do_NI_estimation(self):\n",
    "        self.xxni = np.zeros((self.tn+1,2))\n",
    "        xni = self.x0[0]\n",
    "        for t, yt in enumerate(self.yy):\n",
    "            self.xxni[t,0] = xni #観測された速度の数値積分値\n",
    "            self.xxni[t,1] = yt  #観測された速度そのもの\n",
    "            xni += yt*self.Δt"
   ]
  },
  {
   "cell_type": "markdown",
   "metadata": {},
   "source": [
    "### 数値積分推定との比較"
   ]
  },
  {
   "cell_type": "code",
   "execution_count": null,
   "metadata": {},
   "outputs": [],
   "source": [
    "# システム雑音 + 観測雑音\n",
    "vib1 = Vib1DOF(Qval=0.01, Rval=0.05)\n",
    "vib1.get_sample_path(tn=200)\n",
    "vib1.do_filtering()\n",
    "vib1.do_NI_estimation()\n",
    "plot_filtering_test(vib1)\n",
    "plt.savefig('figs/Ch11-Q1R1.eps', bbox_inches='tight')"
   ]
  },
  {
   "cell_type": "code",
   "execution_count": null,
   "metadata": {},
   "outputs": [],
   "source": [
    "# システム雑音なし + 観測雑音\n",
    "vib1 = Vib1DOF(Qval=0, Rval=0.05)\n",
    "vib1.get_sample_path(tn=200)\n",
    "vib1.do_filtering()\n",
    "vib1.do_NI_estimation()\n",
    "plot_filtering_test(vib1)"
   ]
  },
  {
   "cell_type": "code",
   "execution_count": null,
   "metadata": {},
   "outputs": [],
   "source": [
    "# システム雑音 + 観測雑音なし\n",
    "vib1 = Vib1DOF(Qval=0.01, Rval=0)\n",
    "vib1.get_sample_path(tn=200)\n",
    "vib1.do_filtering()\n",
    "vib1.do_NI_estimation()\n",
    "plot_filtering_test(vib1)"
   ]
  }
 ],
 "metadata": {
  "kernelspec": {
   "display_name": "Python 3",
   "language": "python",
   "name": "python3"
  },
  "language_info": {
   "codemirror_mode": {
    "name": "ipython",
    "version": 3
   },
   "file_extension": ".py",
   "mimetype": "text/x-python",
   "name": "python",
   "nbconvert_exporter": "python",
   "pygments_lexer": "ipython3",
   "version": "3.9.13"
  }
 },
 "nbformat": 4,
 "nbformat_minor": 2
}
