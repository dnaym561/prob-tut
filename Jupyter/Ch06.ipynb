{
 "cells": [
  {
   "cell_type": "markdown",
   "metadata": {},
   "source": [
    "# 第6章 期待値"
   ]
  },
  {
   "cell_type": "code",
   "execution_count": 1,
   "metadata": {},
   "outputs": [],
   "source": [
    "import numpy as np\n",
    "import matplotlib.pyplot as plt\n",
    "from mpl_toolkits.mplot3d import Axes3D\n",
    "from numpy.random import *"
   ]
  },
  {
   "cell_type": "markdown",
   "metadata": {},
   "source": [
    "#### 乱数シードの指定（テキスト掲載用）\n",
    "拙著に掲載した標本路を再現するため，シードを明示しときます．本来は必要ないので，コメントアウトしてもよいです．"
   ]
  },
  {
   "cell_type": "code",
   "execution_count": 2,
   "metadata": {},
   "outputs": [],
   "source": [
    "np.random.seed(321)"
   ]
  },
  {
   "cell_type": "markdown",
   "metadata": {},
   "source": [
    "## 6.1 確率変数の期待値"
   ]
  },
  {
   "cell_type": "markdown",
   "metadata": {},
   "source": [
    "## 6.1.2 密度関数 p(x) が未知の場合"
   ]
  },
  {
   "cell_type": "markdown",
   "metadata": {},
   "source": [
    "### 標本平均"
   ]
  },
  {
   "cell_type": "code",
   "execution_count": 3,
   "metadata": {},
   "outputs": [],
   "source": [
    "def SampleMean(Π):\n",
    "    N = len(Π)\n",
    "    if N == 0:\n",
    "        return False #計算不可能\n",
    "    else:\n",
    "        return sum(Π)/len(Π)"
   ]
  },
  {
   "cell_type": "markdown",
   "metadata": {},
   "source": [
    "#### 標本の例（平均０，分散１のガウス型乱数列にしときます）"
   ]
  },
  {
   "cell_type": "code",
   "execution_count": 4,
   "metadata": {},
   "outputs": [],
   "source": [
    "Π1=randn(2000)"
   ]
  },
  {
   "cell_type": "code",
   "execution_count": 5,
   "metadata": {},
   "outputs": [
    {
     "data": {
      "text/plain": [
       "array([ 0.17251947,  1.63548253,  0.0373364 , ...,  0.04005617,\n",
       "        2.36532508, -0.27772029])"
      ]
     },
     "execution_count": 5,
     "metadata": {},
     "output_type": "execute_result"
    }
   ],
   "source": [
    "Π1"
   ]
  },
  {
   "cell_type": "markdown",
   "metadata": {},
   "source": [
    "標本数が有限なので，理論上の平均0には一致しません．"
   ]
  },
  {
   "cell_type": "code",
   "execution_count": 6,
   "metadata": {},
   "outputs": [
    {
     "data": {
      "text/plain": [
       "-0.0003234867152780985"
      ]
     },
     "execution_count": 6,
     "metadata": {},
     "output_type": "execute_result"
    }
   ],
   "source": [
    "SampleMean(Π1)"
   ]
  },
  {
   "cell_type": "markdown",
   "metadata": {},
   "source": [
    "#### 同分布の別標本の場合"
   ]
  },
  {
   "cell_type": "code",
   "execution_count": 7,
   "metadata": {},
   "outputs": [],
   "source": [
    "Π2=randn(2000)"
   ]
  },
  {
   "cell_type": "markdown",
   "metadata": {},
   "source": [
    "別の標本なので，標本平均は変化します．"
   ]
  },
  {
   "cell_type": "code",
   "execution_count": 8,
   "metadata": {},
   "outputs": [
    {
     "data": {
      "text/plain": [
       "0.0007589896765055609"
      ]
     },
     "execution_count": 8,
     "metadata": {},
     "output_type": "execute_result"
    }
   ],
   "source": [
    "SampleMean(Π2)"
   ]
  },
  {
   "cell_type": "markdown",
   "metadata": {},
   "source": [
    "標本数を変えた場合も，標本平均は変化します．"
   ]
  },
  {
   "cell_type": "code",
   "execution_count": 9,
   "metadata": {},
   "outputs": [
    {
     "data": {
      "text/plain": [
       "-0.0060991324799947715"
      ]
     },
     "execution_count": 9,
     "metadata": {},
     "output_type": "execute_result"
    }
   ],
   "source": [
    "SampleMean(Π2[0:1900])"
   ]
  },
  {
   "cell_type": "markdown",
   "metadata": {},
   "source": [
    "### 標本分散"
   ]
  },
  {
   "cell_type": "markdown",
   "metadata": {},
   "source": [
    "numpy.array の掛け算のチェック"
   ]
  },
  {
   "cell_type": "code",
   "execution_count": 10,
   "metadata": {},
   "outputs": [
    {
     "data": {
      "text/plain": [
       "array([1, 4, 9])"
      ]
     },
     "execution_count": 10,
     "metadata": {},
     "output_type": "execute_result"
    }
   ],
   "source": [
    "np.array([1,2,3])**2"
   ]
  },
  {
   "cell_type": "markdown",
   "metadata": {},
   "source": [
    "#### 定義通りの実装"
   ]
  },
  {
   "cell_type": "code",
   "execution_count": 11,
   "metadata": {},
   "outputs": [],
   "source": [
    "def SampleVariance(Π):\n",
    "    m=SampleMean(Π)  #標本平均\n",
    "    return SampleMean( (Π-m*np.ones_like(Π))**2 )"
   ]
  },
  {
   "cell_type": "markdown",
   "metadata": {},
   "source": [
    "お試し"
   ]
  },
  {
   "cell_type": "code",
   "execution_count": 12,
   "metadata": {},
   "outputs": [
    {
     "data": {
      "text/plain": [
       "0.9878322517997097"
      ]
     },
     "execution_count": 12,
     "metadata": {},
     "output_type": "execute_result"
    }
   ],
   "source": [
    "SampleVariance(Π2)"
   ]
  },
  {
   "cell_type": "markdown",
   "metadata": {},
   "source": [
    "## 6.1.3 標本平均の性質"
   ]
  },
  {
   "cell_type": "markdown",
   "metadata": {},
   "source": [
    "### 大数の法則"
   ]
  },
  {
   "cell_type": "code",
   "execution_count": 13,
   "metadata": {},
   "outputs": [],
   "source": [
    "Π = randn(20000)\n",
    "Xn = [SampleMean(Π[0:i]) for i in range(1,len(Π))]"
   ]
  },
  {
   "cell_type": "code",
   "execution_count": 14,
   "metadata": {},
   "outputs": [
    {
     "data": {
      "image/png": "[encoded data removed]",
      "text/plain": [
       "<Figure size 640x480 with 1 Axes>"
      ]
     },
     "metadata": {},
     "output_type": "display_data"
    }
   ],
   "source": [
    "plt.plot(range(1,len(Π)),Xn)\n",
    "plt.grid()"
   ]
  },
  {
   "cell_type": "markdown",
   "metadata": {},
   "source": [
    "### 中心極限定理"
   ]
  },
  {
   "cell_type": "markdown",
   "metadata": {},
   "source": [
    "ランダムサンプリングのやり方チェック"
   ]
  },
  {
   "cell_type": "code",
   "execution_count": 15,
   "metadata": {},
   "outputs": [
    {
     "data": {
      "text/plain": [
       "array([-0.07232438, -0.36340346, -0.45956821, -1.74077106, -0.49327617])"
      ]
     },
     "execution_count": 15,
     "metadata": {},
     "output_type": "execute_result"
    }
   ],
   "source": [
    "np.random.choice(Π, 5, replace=False) #重複なしのランダムサンプリング"
   ]
  },
  {
   "cell_type": "markdown",
   "metadata": {},
   "source": [
    "異なるサンプルの平均値"
   ]
  },
  {
   "cell_type": "code",
   "execution_count": 16,
   "metadata": {},
   "outputs": [],
   "source": [
    "def SampledMeans_of_n(Π, size_of_sample, num_of_mean):\n",
    "    means = np.zeros((num_of_mean,2))\n",
    "    for i in range(num_of_mean):\n",
    "        sample = np.random.choice(Π, size_of_sample, replace=False)\n",
    "        means[i,0] = size_of_sample\n",
    "        means[i,1] = SampleMean(sample)\n",
    "    return means"
   ]
  },
  {
   "cell_type": "code",
   "execution_count": 17,
   "metadata": {},
   "outputs": [
    {
     "data": {
      "text/plain": [
       "array([[ 2.00000000e+04, -3.58425848e-03],\n",
       "       [ 2.00000000e+04, -3.58425848e-03],\n",
       "       [ 2.00000000e+04, -3.58425848e-03],\n",
       "       [ 2.00000000e+04, -3.58425848e-03],\n",
       "       [ 2.00000000e+04, -3.58425848e-03]])"
      ]
     },
     "execution_count": 17,
     "metadata": {},
     "output_type": "execute_result"
    }
   ],
   "source": [
    "SampledMeans_of_n(Π,len(Π),5)"
   ]
  },
  {
   "cell_type": "markdown",
   "metadata": {},
   "source": [
    "横軸：各標本のサイズ n; 縦軸：各標本の標本平均 "
   ]
  },
  {
   "cell_type": "code",
   "execution_count": 18,
   "metadata": {},
   "outputs": [],
   "source": [
    "def SampledMeans(Π, step, num_of_mean):\n",
    "    result = np.empty((0,2))\n",
    "    for n in range(step, len(Π)+1, step):\n",
    "        result = np.vstack((result,SampledMeans_of_n(Π, n, num_of_mean)))\n",
    "    return result"
   ]
  },
  {
   "cell_type": "code",
   "execution_count": 19,
   "metadata": {},
   "outputs": [
    {
     "data": {
      "text/plain": [
       "array([[ 5.00000000e+03, -1.36025381e-02],\n",
       "       [ 5.00000000e+03, -6.00653032e-03],\n",
       "       [ 5.00000000e+03, -1.33754128e-02],\n",
       "       [ 1.00000000e+04,  6.75166112e-03],\n",
       "       [ 1.00000000e+04,  3.03172602e-03],\n",
       "       [ 1.00000000e+04, -1.41190226e-03],\n",
       "       [ 1.50000000e+04, -5.62044193e-03],\n",
       "       [ 1.50000000e+04, -2.30987751e-03],\n",
       "       [ 1.50000000e+04, -7.33924202e-03],\n",
       "       [ 2.00000000e+04, -3.58425848e-03],\n",
       "       [ 2.00000000e+04, -3.58425848e-03],\n",
       "       [ 2.00000000e+04, -3.58425848e-03]])"
      ]
     },
     "execution_count": 19,
     "metadata": {},
     "output_type": "execute_result"
    }
   ],
   "source": [
    "SampledMeans(Π,5000,3)"
   ]
  },
  {
   "cell_type": "code",
   "execution_count": 20,
   "metadata": {},
   "outputs": [
    {
     "data": {
      "image/png": "[encoded data removed]",
      "text/plain": [
       "<Figure size 640x480 with 1 Axes>"
      ]
     },
     "metadata": {},
     "output_type": "display_data"
    }
   ],
   "source": [
    "means = SampledMeans(Π,500,100)\n",
    "plt.plot(means[:,0],means[:,1],\".\",markersize=1)\n",
    "plt.plot([0,len(Π)],[SampleMean(Π),SampleMean(Π)]) #Π全体の標本平均\n",
    "plt.xlabel(\"n\")\n",
    "plt.ylabel(\"Mean values\")\n",
    "plt.grid()"
   ]
  },
  {
   "cell_type": "markdown",
   "metadata": {},
   "source": [
    "各標本のサイズ n の増大にともなって，平均値のばらつきが小さくなり，Πの標本平均に収束しています．<font color=\"red\">ただし，各標本のサイズ（標本数）が有限なので，終端値（Πの標本平均）は理論的な平均0には一致しません．</font>"
   ]
  },
  {
   "cell_type": "markdown",
   "metadata": {},
   "source": [
    "## 6.2 確率ベクトルの期待値"
   ]
  },
  {
   "cell_type": "markdown",
   "metadata": {},
   "source": [
    "## 6.2.1 多変数の期待値"
   ]
  },
  {
   "cell_type": "markdown",
   "metadata": {},
   "source": [
    "### 共分散"
   ]
  },
  {
   "cell_type": "code",
   "execution_count": 21,
   "metadata": {},
   "outputs": [],
   "source": [
    "def Cov(X,Y):\n",
    "    mx = SampleMean(X)\n",
    "    my = SampleMean(Y)\n",
    "    return SampleMean(X*Y)-mx*my"
   ]
  },
  {
   "cell_type": "markdown",
   "metadata": {},
   "source": [
    "### 相関係数"
   ]
  },
  {
   "cell_type": "code",
   "execution_count": 22,
   "metadata": {},
   "outputs": [],
   "source": [
    "def rho(X,Y):\n",
    "    sx = np.sqrt(SampleVariance(X)) #Xの標準偏差\n",
    "    sy = np.sqrt(SampleVariance(Y)) #Yの標準偏差\n",
    "    return Cov(X/sx,Y/sy)"
   ]
  },
  {
   "cell_type": "markdown",
   "metadata": {},
   "source": [
    "## 6.2.2 期待値に関する公式"
   ]
  },
  {
   "cell_type": "markdown",
   "metadata": {},
   "source": [
    "X1とX2は個別に生成した標本です．あえて分布形を変えました．それらの差をX3とします．"
   ]
  },
  {
   "cell_type": "code",
   "execution_count": 23,
   "metadata": {},
   "outputs": [],
   "source": [
    "X1 = rand(100000)  #区間[0,1]の一様乱数\n",
    "X2 = randn(100000) #平均0分散1のガウス型乱数\n",
    "X3 = X1 - X2"
   ]
  },
  {
   "cell_type": "markdown",
   "metadata": {},
   "source": [
    "#### 算法 6.4 (平均の公式)"
   ]
  },
  {
   "cell_type": "markdown",
   "metadata": {},
   "source": [
    "(1) 足してから平均"
   ]
  },
  {
   "cell_type": "code",
   "execution_count": 24,
   "metadata": {},
   "outputs": [
    {
     "data": {
      "text/plain": [
       "3.281323613682723"
      ]
     },
     "execution_count": 24,
     "metadata": {},
     "output_type": "execute_result"
    }
   ],
   "source": [
    "SampleMean(np.sin(X1) + np.exp(X3))"
   ]
  },
  {
   "cell_type": "markdown",
   "metadata": {},
   "source": [
    "平均してから足す"
   ]
  },
  {
   "cell_type": "code",
   "execution_count": 25,
   "metadata": {
    "scrolled": true
   },
   "outputs": [
    {
     "data": {
      "text/plain": [
       "3.281323613682708"
      ]
     },
     "execution_count": 25,
     "metadata": {},
     "output_type": "execute_result"
    }
   ],
   "source": [
    "SampleMean(np.sin(X1)) + SampleMean(np.exp(X3))"
   ]
  },
  {
   "cell_type": "markdown",
   "metadata": {},
   "source": [
    "<font color=\"red\">※値の誤差は，計算順序の違いで計算機誤差が変化したためです．</font>"
   ]
  },
  {
   "cell_type": "markdown",
   "metadata": {},
   "source": [
    "(2) 定数倍してから平均"
   ]
  },
  {
   "cell_type": "code",
   "execution_count": 26,
   "metadata": {},
   "outputs": [
    {
     "data": {
      "text/plain": [
       "4.207553684036071"
      ]
     },
     "execution_count": 26,
     "metadata": {},
     "output_type": "execute_result"
    }
   ],
   "source": [
    "SampleMean(5 * np.cos(X1))"
   ]
  },
  {
   "cell_type": "markdown",
   "metadata": {},
   "source": [
    "平均してから定数倍"
   ]
  },
  {
   "cell_type": "code",
   "execution_count": 27,
   "metadata": {
    "scrolled": true
   },
   "outputs": [
    {
     "data": {
      "text/plain": [
       "4.2075536840361165"
      ]
     },
     "execution_count": 27,
     "metadata": {},
     "output_type": "execute_result"
    }
   ],
   "source": [
    "5 * SampleMean(np.cos(X1))"
   ]
  },
  {
   "cell_type": "markdown",
   "metadata": {},
   "source": [
    "#### 算法 6.5 (分散の公式)"
   ]
  },
  {
   "cell_type": "markdown",
   "metadata": {},
   "source": [
    "(1)"
   ]
  },
  {
   "cell_type": "code",
   "execution_count": 28,
   "metadata": {
    "scrolled": true
   },
   "outputs": [
    {
     "data": {
      "text/plain": [
       "-1.7486012637846216e-15"
      ]
     },
     "execution_count": 28,
     "metadata": {},
     "output_type": "execute_result"
    }
   ],
   "source": [
    "VX1 = SampleMean(X1**2) - SampleMean(X1)**2\n",
    "VX1 - SampleVariance(X1)"
   ]
  },
  {
   "cell_type": "markdown",
   "metadata": {},
   "source": [
    "(2)"
   ]
  },
  {
   "cell_type": "code",
   "execution_count": 29,
   "metadata": {
    "scrolled": false
   },
   "outputs": [
    {
     "data": {
      "text/plain": [
       "0.0"
      ]
     },
     "execution_count": 29,
     "metadata": {},
     "output_type": "execute_result"
    }
   ],
   "source": [
    "CovX1X3 = SampleMean(X1*X3) - SampleMean(X1)*SampleMean(X3)\n",
    "CovX1X3 - Cov(X1,X3)"
   ]
  },
  {
   "cell_type": "markdown",
   "metadata": {},
   "source": [
    "(3)"
   ]
  },
  {
   "cell_type": "code",
   "execution_count": 30,
   "metadata": {
    "scrolled": false
   },
   "outputs": [
    {
     "data": {
      "text/plain": [
       "1.73749903353837e-14"
      ]
     },
     "execution_count": 30,
     "metadata": {},
     "output_type": "execute_result"
    }
   ],
   "source": [
    "s1 = np.sqrt(SampleVariance(X1))\n",
    "s3 = np.sqrt(SampleVariance(X3))\n",
    "rhoX1X3 = Cov(X1,X3)/(s1*s3)\n",
    "rhoX1X3 - rho(X1,X3)"
   ]
  },
  {
   "cell_type": "markdown",
   "metadata": {},
   "source": [
    "<font color=\"red\">※計算機の計算結果において，$10^{-14}$程度の値は0を意味します．</font>"
   ]
  },
  {
   "cell_type": "markdown",
   "metadata": {},
   "source": [
    "## 6.3 共分散と相関"
   ]
  },
  {
   "cell_type": "markdown",
   "metadata": {},
   "source": [
    "### 共分散"
   ]
  },
  {
   "cell_type": "markdown",
   "metadata": {},
   "source": [
    "互いに独立なX1とX2の共分散は0になります（標本数が有限なので，ぴったり0にはなりません）．"
   ]
  },
  {
   "cell_type": "code",
   "execution_count": 31,
   "metadata": {},
   "outputs": [
    {
     "data": {
      "text/plain": [
       "0.0010474315428983087"
      ]
     },
     "execution_count": 31,
     "metadata": {},
     "output_type": "execute_result"
    }
   ],
   "source": [
    "Cov(X1,X2)"
   ]
  },
  {
   "cell_type": "markdown",
   "metadata": {},
   "source": [
    "X3 = X1 - X2 には，X1やX2の変動が混合されています．したがって，このX3は，X1やX2と独立ではありません．\n",
    "このような場合の共分散は非ゼロになります．"
   ]
  },
  {
   "cell_type": "code",
   "execution_count": 32,
   "metadata": {},
   "outputs": [
    {
     "data": {
      "text/plain": [
       "0.0826466066554585"
      ]
     },
     "execution_count": 32,
     "metadata": {},
     "output_type": "execute_result"
    }
   ],
   "source": [
    "Cov(X1,X3)"
   ]
  },
  {
   "cell_type": "code",
   "execution_count": 33,
   "metadata": {
    "scrolled": true
   },
   "outputs": [
    {
     "data": {
      "text/plain": [
       "-1.00184864009962"
      ]
     },
     "execution_count": 33,
     "metadata": {},
     "output_type": "execute_result"
    }
   ],
   "source": [
    "Cov(X2,X3)"
   ]
  },
  {
   "cell_type": "markdown",
   "metadata": {},
   "source": [
    "### 相関係数"
   ]
  },
  {
   "cell_type": "markdown",
   "metadata": {},
   "source": [
    "互いに独立なX1とX2の相関係数は0になります（標本数が有限なので，ぴったり0にはなりません）．"
   ]
  },
  {
   "cell_type": "code",
   "execution_count": 34,
   "metadata": {},
   "outputs": [
    {
     "data": {
      "text/plain": [
       "0.0036153506188351496"
      ]
     },
     "execution_count": 34,
     "metadata": {},
     "output_type": "execute_result"
    }
   ],
   "source": [
    "rho(X1,X2)"
   ]
  },
  {
   "cell_type": "markdown",
   "metadata": {},
   "source": [
    "独立でない場合の相関係数は，$\\rho\\neq0$ かつ $-1\\leq\\rho\\leq1$ の値をとります．"
   ]
  },
  {
   "cell_type": "code",
   "execution_count": 35,
   "metadata": {},
   "outputs": [
    {
     "data": {
      "text/plain": [
       "0.2743240847639806"
      ]
     },
     "execution_count": 35,
     "metadata": {},
     "output_type": "execute_result"
    }
   ],
   "source": [
    "rho(X1,X3)"
   ]
  },
  {
   "cell_type": "code",
   "execution_count": 36,
   "metadata": {
    "scrolled": true
   },
   "outputs": [
    {
     "data": {
      "text/plain": [
       "-0.9606392374435325"
      ]
     },
     "execution_count": 36,
     "metadata": {},
     "output_type": "execute_result"
    }
   ],
   "source": [
    "rho(X2,X3)"
   ]
  },
  {
   "cell_type": "markdown",
   "metadata": {},
   "source": [
    "## 6.3.2 無相関だが独立でない例"
   ]
  },
  {
   "cell_type": "code",
   "execution_count": 37,
   "metadata": {},
   "outputs": [
    {
     "data": {
      "text/plain": [
       "0.0009344193575828348"
      ]
     },
     "execution_count": 37,
     "metadata": {},
     "output_type": "execute_result"
    }
   ],
   "source": [
    "X4 = randn(1000000) #平均0分散1のガウス型乱数\n",
    "X5 = X4*X4\n",
    "rho(X4,X5)"
   ]
  },
  {
   "cell_type": "markdown",
   "metadata": {},
   "source": [
    "## 6.4 条件付き期待値"
   ]
  },
  {
   "cell_type": "markdown",
   "metadata": {},
   "source": [
    "## 6.4.1 関数としての定義"
   ]
  },
  {
   "cell_type": "markdown",
   "metadata": {},
   "source": [
    "有限個の実数値の標本に対して，このタイプの条件付き期待値を定めるのは困難です（だから難解なのかもしれませんね）．実例を作ってみましょう．"
   ]
  },
  {
   "cell_type": "markdown",
   "metadata": {},
   "source": [
    "### 定義通りの実装"
   ]
  },
  {
   "cell_type": "code",
   "execution_count": 38,
   "metadata": {},
   "outputs": [],
   "source": [
    "def SampleConditionalMean(XX, y_value):\n",
    "    sampled_idx = np.where(XX[:,1]==y_value)[0]\n",
    "    x_values = XX[sampled_idx,0]\n",
    "    return SampleMean(x_values),x_values"
   ]
  },
  {
   "cell_type": "markdown",
   "metadata": {},
   "source": [
    "#### 既知の離散値の標本に対して"
   ]
  },
  {
   "cell_type": "markdown",
   "metadata": {},
   "source": [
    "条件付き期待値を求めるこの関数は，既知の離散値の標本に対しては，ある程度うまく機能します．"
   ]
  },
  {
   "cell_type": "code",
   "execution_count": 39,
   "metadata": {},
   "outputs": [
    {
     "data": {
      "text/plain": [
       "array([[-1,  1],\n",
       "       [ 1,  1],\n",
       "       [ 3,  2],\n",
       "       [ 5,  2],\n",
       "       [ 6,  1]])"
      ]
     },
     "execution_count": 39,
     "metadata": {},
     "output_type": "execute_result"
    }
   ],
   "source": [
    "XXint = np.array([[-1,1],[1,1],[3,2],[5,2],[6,1]])\n",
    "XXint"
   ]
  },
  {
   "cell_type": "code",
   "execution_count": 40,
   "metadata": {},
   "outputs": [
    {
     "data": {
      "text/plain": [
       "(2.0, array([-1,  1,  6]))"
      ]
     },
     "execution_count": 40,
     "metadata": {},
     "output_type": "execute_result"
    }
   ],
   "source": [
    "SampleConditionalMean(XXint,1)"
   ]
  },
  {
   "cell_type": "code",
   "execution_count": 41,
   "metadata": {},
   "outputs": [
    {
     "data": {
      "text/plain": [
       "(4.0, array([3, 5]))"
      ]
     },
     "execution_count": 41,
     "metadata": {},
     "output_type": "execute_result"
    }
   ],
   "source": [
    "SampleConditionalMean(XXint,2)"
   ]
  },
  {
   "cell_type": "markdown",
   "metadata": {},
   "source": [
    "#### 未知の実数値の標本に対して"
   ]
  },
  {
   "cell_type": "markdown",
   "metadata": {},
   "source": [
    "しかし，SampleConditionalMean(XX, y) は，実数値関数 f(y) のようには機能しません．標本 XX の第2成分がランダムな実数値の場合，これが<font color=\"red\">勝手に選んだ確定値 y</font> にヒットする確率は一般的には0だからです．平均すべき値が存在しなければ，平均は計算できません．"
   ]
  },
  {
   "cell_type": "markdown",
   "metadata": {},
   "source": [
    "実数値（浮動小数点値）の実例をみてみましょう．"
   ]
  },
  {
   "cell_type": "code",
   "execution_count": 42,
   "metadata": {},
   "outputs": [],
   "source": [
    "def getRandomVector(n_of_sample):\n",
    "    XX = np.zeros([n_of_sample,2])\n",
    "    XX[:,0] = randn(n_of_sample) #第1成分はガウス型乱数\n",
    "    XX[:,1] = XX[:,0] + randn(n_of_sample) #第2成分は第1成分と相関のあるガウス型乱数\n",
    "    return XX"
   ]
  },
  {
   "cell_type": "code",
   "execution_count": 43,
   "metadata": {},
   "outputs": [
    {
     "data": {
      "text/plain": [
       "array([[-0.47088186, -1.1156735 ],\n",
       "       [-1.51890715, -0.09814011],\n",
       "       [-1.1308966 ,  0.0971098 ]])"
      ]
     },
     "execution_count": 43,
     "metadata": {},
     "output_type": "execute_result"
    }
   ],
   "source": [
    "XX_3 = getRandomVector(3)\n",
    "XX_3"
   ]
  },
  {
   "cell_type": "markdown",
   "metadata": {},
   "source": [
    "このX_3で計算を進めると，平均値はFalseとなります．これは平均すべき対象が空だったことを意味します．実際arrayは空です．"
   ]
  },
  {
   "cell_type": "code",
   "execution_count": 44,
   "metadata": {},
   "outputs": [
    {
     "data": {
      "text/plain": [
       "(False, array([], dtype=float64))"
      ]
     },
     "execution_count": 44,
     "metadata": {},
     "output_type": "execute_result"
    }
   ],
   "source": [
    "SampleConditionalMean(XX_3,2.0)"
   ]
  },
  {
   "cell_type": "markdown",
   "metadata": {},
   "source": [
    "標本数を増やしても，対象が空になってだめです．"
   ]
  },
  {
   "cell_type": "code",
   "execution_count": 45,
   "metadata": {},
   "outputs": [
    {
     "data": {
      "text/plain": [
       "Text(0, 0.5, 'X2')"
      ]
     },
     "execution_count": 45,
     "metadata": {},
     "output_type": "execute_result"
    },
    {
     "data": {
      "image/png": "[encoded data removed]",
      "text/plain": [
       "<Figure size 640x480 with 1 Axes>"
      ]
     },
     "metadata": {},
     "output_type": "display_data"
    }
   ],
   "source": [
    "XX_huge = getRandomVector(100000)\n",
    "plt.plot(XX_huge[:,0],XX_huge[:,1],\".\",markersize=1)\n",
    "plt.xlabel('X1')\n",
    "plt.ylabel('X2')"
   ]
  },
  {
   "cell_type": "code",
   "execution_count": 46,
   "metadata": {},
   "outputs": [
    {
     "data": {
      "text/plain": [
       "(False, array([], dtype=float64))"
      ]
     },
     "execution_count": 46,
     "metadata": {},
     "output_type": "execute_result"
    }
   ],
   "source": [
    "SampleConditionalMean(XX_huge,2.0)"
   ]
  },
  {
   "cell_type": "markdown",
   "metadata": {},
   "source": [
    "実際に存在する値を抽出して与えると一応，期待値は計算されます．しかし，それ自身にしかヒットしておらず，１個で平均？した結果であることが分かります．"
   ]
  },
  {
   "cell_type": "code",
   "execution_count": 47,
   "metadata": {},
   "outputs": [
    {
     "data": {
      "text/plain": [
       "array([0.53563877, 1.97174106])"
      ]
     },
     "execution_count": 47,
     "metadata": {},
     "output_type": "execute_result"
    }
   ],
   "source": [
    "XX_huge[1000,:]"
   ]
  },
  {
   "cell_type": "code",
   "execution_count": 48,
   "metadata": {},
   "outputs": [
    {
     "data": {
      "text/plain": [
       "1.9717410602747432"
      ]
     },
     "execution_count": 48,
     "metadata": {},
     "output_type": "execute_result"
    }
   ],
   "source": [
    "XX_huge[1000,1]"
   ]
  },
  {
   "cell_type": "code",
   "execution_count": 49,
   "metadata": {},
   "outputs": [
    {
     "data": {
      "text/plain": [
       "(0.5356387720173378, array([0.53563877]))"
      ]
     },
     "execution_count": 49,
     "metadata": {},
     "output_type": "execute_result"
    }
   ],
   "source": [
    "SampleConditionalMean(XX_huge,XX_huge[1000,1])"
   ]
  },
  {
   "cell_type": "markdown",
   "metadata": {},
   "source": [
    "### 区間による実装"
   ]
  },
  {
   "cell_type": "markdown",
   "metadata": {},
   "source": [
    "条件 y を区間で与えると，条件付き期待値の関数形を大まかに可視化できます．"
   ]
  },
  {
   "cell_type": "code",
   "execution_count": 50,
   "metadata": {},
   "outputs": [],
   "source": [
    "def SampleConditionalMean_by_interval(XX, y_value_min, y_value_max, nstep):\n",
    "    ys = np.linspace(y_value_min, y_value_max, nstep+1)\n",
    "    result = np.empty((0,2))\n",
    "    for i in range(nstep):\n",
    "        y = (ys[i]+ys[i+1])*0.5\n",
    "        sampled_idx = np.where((ys[i]<=XX[:,1]) & (XX[:,1]<ys[i+1]))[0]\n",
    "        x_values = XX[sampled_idx,0]\n",
    "        mean = SampleMean(x_values)\n",
    "        if mean != False:\n",
    "            result = np.vstack((result,np.array([y,mean])))\n",
    "    return result"
   ]
  },
  {
   "cell_type": "code",
   "execution_count": 51,
   "metadata": {},
   "outputs": [
    {
     "data": {
      "text/plain": [
       "Text(0, 0.5, '$E[X|y]$')"
      ]
     },
     "execution_count": 51,
     "metadata": {},
     "output_type": "execute_result"
    },
    {
     "data": {
      "image/png": "[encoded data removed]",
      "text/plain": [
       "<Figure size 640x480 with 1 Axes>"
      ]
     },
     "metadata": {},
     "output_type": "display_data"
    }
   ],
   "source": [
    "scm_int = SampleConditionalMean_by_interval(XX_huge, -6, 6, 20)\n",
    "plt.plot(scm_int[:,0], scm_int[:,1], 'o')\n",
    "plt.xlabel('$y$')\n",
    "plt.ylabel('$E[X|y]$')"
   ]
  },
  {
   "cell_type": "markdown",
   "metadata": {},
   "source": [
    "### 算法 6.10"
   ]
  },
  {
   "cell_type": "code",
   "execution_count": 52,
   "metadata": {},
   "outputs": [],
   "source": [
    "def ConditionalMeanFunc(XX, y): #mx, my, C12, vy を引数にしたほうが速いです\n",
    "    X = XX[:,0]\n",
    "    Y = XX[:,1]\n",
    "    mx = SampleMean(X)\n",
    "    my = SampleMean(Y)\n",
    "    C12 = Cov(X,Y)\n",
    "    vy = SampleVariance(Y)\n",
    "    return mx + (C12/vy)*(y - my)"
   ]
  },
  {
   "cell_type": "code",
   "execution_count": 53,
   "metadata": {
    "scrolled": true
   },
   "outputs": [
    {
     "data": {
      "text/plain": [
       "0.5005184254146589"
      ]
     },
     "execution_count": 53,
     "metadata": {},
     "output_type": "execute_result"
    }
   ],
   "source": [
    "ConditionalMeanFunc(XX_huge,1)"
   ]
  },
  {
   "cell_type": "markdown",
   "metadata": {},
   "source": [
    "### 図6.1"
   ]
  },
  {
   "cell_type": "code",
   "execution_count": 54,
   "metadata": {},
   "outputs": [
    {
     "name": "stderr",
     "output_type": "stream",
     "text": [
      "The PostScript backend does not support transparency; partially transparent artists will be rendered opaque.\n"
     ]
    },
    {
     "data": {
      "image/png": "[encoded data removed]",
      "text/plain": [
       "<Figure size 500x200 with 1 Axes>"
      ]
     },
     "metadata": {},
     "output_type": "display_data"
    }
   ],
   "source": [
    "ys = np.linspace(-7, 7, 20)\n",
    "means = [ConditionalMeanFunc(XX_huge,y) for y in ys]\n",
    "\n",
    "plt.figure(figsize=(5,2))\n",
    "plt.xlim([-7,7])\n",
    "plt.plot(ys, means, 'k-', label='Theoretical')\n",
    "plt.plot(scm_int[:,0], scm_int[:,1], 'o', markeredgecolor='k', markerfacecolor='w', label='Numerical')\n",
    "plt.legend()\n",
    "plt.xlabel('$y$', fontsize=12)\n",
    "plt.ylabel('$E[X|y]$', fontsize=12)\n",
    "\n",
    "plt.savefig('figs/Ch06-CondMean.eps', bbox_inches='tight')"
   ]
  },
  {
   "cell_type": "markdown",
   "metadata": {},
   "source": [
    "実線が算法6.10による結果，☓点が上記「区間による実装」による近似です．"
   ]
  },
  {
   "cell_type": "code",
   "execution_count": null,
   "metadata": {},
   "outputs": [],
   "source": []
  }
 ],
 "metadata": {
  "kernelspec": {
   "display_name": "Python 3",
   "language": "python",
   "name": "python3"
  },
  "language_info": {
   "codemirror_mode": {
    "name": "ipython",
    "version": 3
   },
   "file_extension": ".py",
   "mimetype": "text/x-python",
   "name": "python",
   "nbconvert_exporter": "python",
   "pygments_lexer": "ipython3",
   "version": "3.9.7"
  }
 },
 "nbformat": 4,
 "nbformat_minor": 2
}
