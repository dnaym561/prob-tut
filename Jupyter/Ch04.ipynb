{
 "cells": [
  {
   "cell_type": "markdown",
   "metadata": {},
   "source": [
    "# 第4章 確率分布"
   ]
  },
  {
   "cell_type": "code",
   "execution_count": 1,
   "metadata": {},
   "outputs": [],
   "source": [
    "import numpy as np\n",
    "import matplotlib.pyplot as plt\n",
    "import matplotlib.ticker as tick"
   ]
  },
  {
   "cell_type": "markdown",
   "metadata": {},
   "source": [
    "## 4.1 分布関数と密度関数"
   ]
  },
  {
   "cell_type": "markdown",
   "metadata": {},
   "source": [
    "### 図4.1 見本を昇順にソートした確率変数"
   ]
  },
  {
   "cell_type": "code",
   "execution_count": 2,
   "metadata": {},
   "outputs": [],
   "source": [
    "Ydata = np.load('Ch03_Ydata500.npy')"
   ]
  },
  {
   "cell_type": "code",
   "execution_count": 3,
   "metadata": {},
   "outputs": [],
   "source": [
    "Ydata_sorted = np.sort(Ydata)"
   ]
  },
  {
   "cell_type": "code",
   "execution_count": 4,
   "metadata": {},
   "outputs": [
    {
     "data": {
      "image/png": "[encoded data removed]",
      "text/plain": [
       "<matplotlib.figure.Figure at 0x7f4bf1832ac8>"
      ]
     },
     "metadata": {},
     "output_type": "display_data"
    }
   ],
   "source": [
    "plt.figure(figsize = ( 5 , 1.5 ))\n",
    "plt.plot(Ydata_sorted,'k-')\n",
    "plt.xlabel('$\\omega\\'$', fontsize=12)\n",
    "plt.ylabel('$Y(\\omega\\')$ [m]', fontsize=12)\n",
    "plt.xticks(np.arange(0,501,50))\n",
    "plt.grid(linestyle='--')\n",
    "plt.savefig(\"figs/Ch03-gun_500_Ysort.eps\", bbox_inches='tight')"
   ]
  },
  {
   "cell_type": "markdown",
   "metadata": {},
   "source": [
    "## 4.1.1 分布関数"
   ]
  },
  {
   "cell_type": "markdown",
   "metadata": {},
   "source": [
    "### 事象 $\\{Y \\leq y\\}$"
   ]
  },
  {
   "cell_type": "code",
   "execution_count": 5,
   "metadata": {},
   "outputs": [],
   "source": [
    "def Yy(y):\n",
    "    return np.where(Ydata <= y)[0]"
   ]
  },
  {
   "cell_type": "code",
   "execution_count": 6,
   "metadata": {},
   "outputs": [
    {
     "data": {
      "text/plain": [
       "array([ 19,  46,  53,  72,  82,  93, 133, 137, 147, 162, 201, 263, 264,\n",
       "       292, 336, 363, 435, 439, 457, 475, 486])"
      ]
     },
     "execution_count": 6,
     "metadata": {},
     "output_type": "execute_result"
    }
   ],
   "source": [
    "Yy(-0.01)"
   ]
  },
  {
   "cell_type": "markdown",
   "metadata": {},
   "source": [
    "### 累積度数 (cumulative frequency)"
   ]
  },
  {
   "cell_type": "code",
   "execution_count": 7,
   "metadata": {},
   "outputs": [],
   "source": [
    "def _cf(y):\n",
    "    return len(Yy(y)) \n",
    "\n",
    "cf = np.vectorize(_cf)"
   ]
  },
  {
   "cell_type": "code",
   "execution_count": 8,
   "metadata": {
    "scrolled": true
   },
   "outputs": [
    {
     "data": {
      "text/plain": [
       "(array(0), array(21))"
      ]
     },
     "execution_count": 8,
     "metadata": {},
     "output_type": "execute_result"
    }
   ],
   "source": [
    "cf(-10), cf(-0.01)"
   ]
  },
  {
   "cell_type": "markdown",
   "metadata": {},
   "source": [
    "### 分布関数"
   ]
  },
  {
   "cell_type": "code",
   "execution_count": 9,
   "metadata": {},
   "outputs": [],
   "source": [
    "def F(y):\n",
    "    return cf(y) / len(Ydata)"
   ]
  },
  {
   "cell_type": "code",
   "execution_count": 10,
   "metadata": {},
   "outputs": [
    {
     "data": {
      "text/plain": [
       "0.041916167664670656"
      ]
     },
     "execution_count": 10,
     "metadata": {},
     "output_type": "execute_result"
    }
   ],
   "source": [
    "F(-0.01)"
   ]
  },
  {
   "cell_type": "markdown",
   "metadata": {},
   "source": [
    "### 表4.1"
   ]
  },
  {
   "cell_type": "code",
   "execution_count": 11,
   "metadata": {
    "scrolled": true
   },
   "outputs": [
    {
     "name": "stdout",
     "output_type": "stream",
     "text": [
      "$-0.02$\t& $0$\t& {\\tt 0.00e+00} \\\\\n",
      "$-0.015$\t& $3$\t& {\\tt 5.99e-03} \\\\\n",
      "$-0.01$\t& $21$\t& {\\tt 4.19e-02} \\\\\n",
      "$-0.005$\t& $85$\t& {\\tt 1.70e-01} \\\\\n",
      "$0$\t& $244$\t& {\\tt 4.87e-01} \\\\\n",
      "$0.005$\t& $404$\t& {\\tt 8.06e-01} \\\\\n",
      "$0.01$\t& $485$\t& {\\tt 9.68e-01} \\\\\n",
      "$0.015$\t& $501$\t& {\\tt 1.00e+00} \\\\\n",
      "$0.02$\t& $501$\t& {\\tt 1.00e+00} \\\\\n"
     ]
    }
   ],
   "source": [
    "ys = np.linspace(-0.02, 0.02, 9)\n",
    "tab_4_1 = np.array([ys.T, cf(ys).T, F(ys).T]).T \n",
    "for line in tab_4_1: \n",
    "    print('$%g$\\t& $%d$\\t& {\\\\tt %.2e} \\\\\\\\' % (line[0],line[1],line[2]))\n",
    "#    print('%g\\t%d\\t%g' % (line[0],line[1],line[2]))"
   ]
  },
  {
   "cell_type": "markdown",
   "metadata": {},
   "source": [
    "### 図4.2 確率分布関数"
   ]
  },
  {
   "cell_type": "code",
   "execution_count": 12,
   "metadata": {},
   "outputs": [],
   "source": [
    "yy = np.arange(-0.02,0.02,4e-5)"
   ]
  },
  {
   "cell_type": "code",
   "execution_count": 13,
   "metadata": {},
   "outputs": [
    {
     "data": {
      "image/png": "[encoded data removed]",
      "text/plain": [
       "<matplotlib.figure.Figure at 0x7f4bf0768358>"
      ]
     },
     "metadata": {},
     "output_type": "display_data"
    }
   ],
   "source": [
    "plt.figure(figsize = ( 5 , 1.5 ))\n",
    "\n",
    "plt.plot(yy, F(yy),'k-')\n",
    "\n",
    "plt.xlabel('$y$ [m]', fontsize=12)\n",
    "plt.ylabel('$F(y)$', fontsize=12)\n",
    "plt.xticks(np.linspace(-0.02,0.02,5))\n",
    "plt.gca().yaxis.set_minor_locator(tick.MultipleLocator(0.1))\n",
    "plt.gca().xaxis.set_minor_locator(tick.MultipleLocator(0.005))\n",
    "plt.grid(which='minor', linestyle='--')\n",
    "plt.savefig(\"figs/Ch03-gun_500_F.eps\", bbox_inches='tight')"
   ]
  },
  {
   "cell_type": "markdown",
   "metadata": {},
   "source": [
    "## 4.1.2 ヒストグラム"
   ]
  },
  {
   "cell_type": "code",
   "execution_count": 14,
   "metadata": {},
   "outputs": [
    {
     "data": {
      "text/plain": [
       "array([0, 1, 2, 3, 4, 5, 6, 7, 8])"
      ]
     },
     "execution_count": 14,
     "metadata": {},
     "output_type": "execute_result"
    }
   ],
   "source": [
    "ii = np.arange(9)\n",
    "ii"
   ]
  },
  {
   "cell_type": "markdown",
   "metadata": {},
   "source": [
    "### 式(4.4)"
   ]
  },
  {
   "cell_type": "code",
   "execution_count": 15,
   "metadata": {},
   "outputs": [
    {
     "data": {
      "text/plain": [
       "array([-0.02 , -0.015, -0.01 , -0.005,  0.   ,  0.005,  0.01 ,  0.015,\n",
       "        0.02 ])"
      ]
     },
     "execution_count": 15,
     "metadata": {},
     "output_type": "execute_result"
    }
   ],
   "source": [
    "yy = np.linspace(-0.02,0.02,9)\n",
    "yy"
   ]
  },
  {
   "cell_type": "markdown",
   "metadata": {},
   "source": [
    "### 式(4.5)"
   ]
  },
  {
   "cell_type": "code",
   "execution_count": 16,
   "metadata": {},
   "outputs": [
    {
     "data": {
      "text/plain": [
       "array([147, 292, 457])"
      ]
     },
     "execution_count": 16,
     "metadata": {},
     "output_type": "execute_result"
    }
   ],
   "source": [
    "def A(i):\n",
    "    return np.where( (yy[i] <= Ydata) & (Ydata < yy[i+1]) )[0]\n",
    "A(0)"
   ]
  },
  {
   "cell_type": "code",
   "execution_count": 17,
   "metadata": {},
   "outputs": [],
   "source": [
    "def _PA(i):\n",
    "    return len(A(i))/len(Ydata)\n",
    "\n",
    "PA = np.vectorize(_PA)"
   ]
  },
  {
   "cell_type": "code",
   "execution_count": 18,
   "metadata": {},
   "outputs": [
    {
     "data": {
      "text/plain": [
       "array([0.00598802, 0.03592814, 0.12774451, 0.31736527, 0.31936128,\n",
       "       0.16167665, 0.03193613])"
      ]
     },
     "execution_count": 18,
     "metadata": {},
     "output_type": "execute_result"
    }
   ],
   "source": [
    "PA(ii[:-2])"
   ]
  },
  {
   "cell_type": "markdown",
   "metadata": {},
   "source": [
    "### 図4.3 相対度数ヒストグラム（高さが確率）"
   ]
  },
  {
   "cell_type": "code",
   "execution_count": 19,
   "metadata": {},
   "outputs": [
    {
     "data": {
      "image/png": "[encoded data removed]",
      "text/plain": [
       "<matplotlib.figure.Figure at 0x7f4bf07470b8>"
      ]
     },
     "metadata": {},
     "output_type": "display_data"
    }
   ],
   "source": [
    "plt.figure(figsize = ( 5 , 1.5 ))\n",
    "\n",
    "plt.bar(yy[:-2],PA(ii[:-2]),width=yy[1]-yy[0], align='edge',color='lightgray',edgecolor='k')\n",
    "\n",
    "plt.xlabel('$y$ [m]', fontsize=12)\n",
    "plt.ylabel('$P$', fontsize=12)\n",
    "plt.xticks(np.linspace(-0.02,0.02,5))\n",
    "plt.gca().yaxis.set_minor_locator(tick.MultipleLocator(0.1))\n",
    "plt.gca().xaxis.set_minor_locator(tick.MultipleLocator(0.005))\n",
    "plt.grid(which='minor', linestyle='--')\n",
    "plt.savefig(\"figs/Ch03-gun_500_prob.eps\", bbox_inches='tight')"
   ]
  },
  {
   "cell_type": "markdown",
   "metadata": {},
   "source": [
    "## 4.1.3 密度関数"
   ]
  },
  {
   "cell_type": "markdown",
   "metadata": {},
   "source": [
    "### 図4.4 近似的な確率密度関数（面積が確率）"
   ]
  },
  {
   "cell_type": "code",
   "execution_count": 20,
   "metadata": {},
   "outputs": [],
   "source": [
    "Δy = yy[1] -yy[0]\n",
    "\n",
    "def _pA(i):\n",
    "    return _PA(i)/Δy\n",
    "\n",
    "pA = np.vectorize(_pA)"
   ]
  },
  {
   "cell_type": "code",
   "execution_count": 21,
   "metadata": {},
   "outputs": [
    {
     "data": {
      "image/png": "[encoded data removed]",
      "text/plain": [
       "<matplotlib.figure.Figure at 0x7f4bf065e0f0>"
      ]
     },
     "metadata": {},
     "output_type": "display_data"
    }
   ],
   "source": [
    "plt.figure(figsize = ( 5 , 1.5 ))\n",
    "\n",
    "plt.bar(yy[:-2],pA(ii[:-2]),width=yy[1]-yy[0], align='edge',color='lightgray',edgecolor='k')\n",
    "\n",
    "plt.xlabel('$y$ [m]', fontsize=12)\n",
    "plt.ylabel('$P$', fontsize=12)\n",
    "plt.xticks(np.linspace(-0.02,0.02,5))\n",
    "plt.gca().yaxis.set_minor_locator(tick.MultipleLocator(10))\n",
    "plt.gca().xaxis.set_minor_locator(tick.MultipleLocator(0.005))\n",
    "plt.grid(which='minor', linestyle='--')\n",
    "plt.savefig(\"figs/Ch03-gun_500_pdf.eps\", bbox_inches='tight')"
   ]
  },
  {
   "cell_type": "markdown",
   "metadata": {},
   "source": [
    "### 図4.3, 4.4 Matplotlib の組み込み関数を利用した例"
   ]
  },
  {
   "cell_type": "markdown",
   "metadata": {},
   "source": [
    "確率密度関数は，組み込み関数を使うほうが簡単です．"
   ]
  },
  {
   "cell_type": "code",
   "execution_count": 22,
   "metadata": {
    "scrolled": true
   },
   "outputs": [
    {
     "data": {
      "image/png": "[encoded data removed]",
      "text/plain": [
       "<matplotlib.figure.Figure at 0x7f4bf061a2b0>"
      ]
     },
     "metadata": {},
     "output_type": "display_data"
    }
   ],
   "source": [
    "plt.figure(figsize = ( 5 , 2 ))\n",
    "\n",
    "plt.hist(Ydata, range=[-0.02,0.02], bins=8, density=True, color='lightgray',edgecolor='k')\n",
    "\n",
    "plt.xlabel('$y$ [m]', fontsize=12)\n",
    "plt.ylabel('$P$', fontsize=12)\n",
    "plt.xticks(np.linspace(-0.02,0.02,5))\n",
    "plt.gca().yaxis.set_minor_locator(tick.MultipleLocator(10))\n",
    "plt.gca().xaxis.set_minor_locator(tick.MultipleLocator(0.005))\n",
    "plt.grid(which='minor', linestyle='--')"
   ]
  },
  {
   "cell_type": "markdown",
   "metadata": {},
   "source": [
    "### 表4.2"
   ]
  },
  {
   "cell_type": "code",
   "execution_count": 23,
   "metadata": {},
   "outputs": [
    {
     "name": "stdout",
     "output_type": "stream",
     "text": [
      "0 -0.020000 -0.015000 3 0.005988 1.197605\n",
      "1 -0.015000 -0.010000 18 0.035928 7.185629\n",
      "2 -0.010000 -0.005000 64 0.127745 25.548902\n",
      "3 -0.005000 0.000000 159 0.317365 63.473054\n",
      "4 0.000000 0.005000 160 0.319361 63.872255\n",
      "5 0.005000 0.010000 81 0.161677 32.335329\n",
      "6 0.010000 0.015000 16 0.031936 6.387226\n",
      "7 0.015000 0.020000 0 0.000000 0.000000\n"
     ]
    }
   ],
   "source": [
    "for i in ii[:-1]:\n",
    "    print('%d %f %f %d %f %f' % (i,yy[i],yy[i+1],len(A(i)), PA(i), pA(i) ) )\n",
    "    #print('$%d$& $%g$& $%g$& $%d$& {\\\\tt %.2e}& {\\\\tt %.2e}\\\\\\\\' % (i,yy[i],yy[i+1],len(A(i)), PA(i), pA(i) ) )"
   ]
  },
  {
   "cell_type": "markdown",
   "metadata": {},
   "source": [
    "## 4.2 代表的な確率分布"
   ]
  },
  {
   "cell_type": "code",
   "execution_count": 24,
   "metadata": {},
   "outputs": [],
   "source": [
    "def plot_density(x, p, spec='k-', label=None, reset=True):\n",
    "    if reset is True: plt.figure(figsize = ( 5 , 1.5 ))\n",
    "\n",
    "    plt.plot(x, p, spec, label=label)\n",
    "\n",
    "    plt.xlabel('$x$', fontsize=12)\n",
    "    plt.ylabel('$p(x)$', fontsize=12)\n",
    "    plt.xlim([min(x),max(x)])\n",
    "    plt.grid(linestyle='--')\n",
    "    if label is not None: plt.legend()"
   ]
  },
  {
   "cell_type": "markdown",
   "metadata": {},
   "source": [
    "## 4.2.1 一様分布"
   ]
  },
  {
   "cell_type": "markdown",
   "metadata": {},
   "source": [
    "$$p(x):=\n",
    "  \\begin{cases}\n",
    "   \\displaystyle\n",
    "   \\frac{1}{b-a}& (a\\leq x\\leq b)\\\\\n",
    "   0 & (\\text{otherwise})\\\\\n",
    "  \\end{cases}$$"
   ]
  },
  {
   "cell_type": "code",
   "execution_count": 25,
   "metadata": {},
   "outputs": [],
   "source": [
    "def _uniform(x,a,b):\n",
    "    if a <= x and x <= b:\n",
    "        return 1.0/(b-a)\n",
    "    else:\n",
    "        return 0.0\n",
    "    \n",
    "uniform = np.vectorize(_uniform,excluded=['a','b'])"
   ]
  },
  {
   "cell_type": "code",
   "execution_count": 26,
   "metadata": {},
   "outputs": [],
   "source": [
    "xx = np.linspace(-5,5,200)"
   ]
  },
  {
   "cell_type": "code",
   "execution_count": 27,
   "metadata": {},
   "outputs": [
    {
     "data": {
      "image/png": "[encoded data removed]",
      "text/plain": [
       "<matplotlib.figure.Figure at 0x7f4bf065ec50>"
      ]
     },
     "metadata": {},
     "output_type": "display_data"
    }
   ],
   "source": [
    "plot_density(xx, uniform(xx,-1,2))\n",
    "plt.savefig('figs/Ch04_uniform.eps', bbox_inches='tight')"
   ]
  },
  {
   "cell_type": "markdown",
   "metadata": {},
   "source": [
    "## 4.2.2 ガウス分布(正規分布)"
   ]
  },
  {
   "cell_type": "markdown",
   "metadata": {},
   "source": [
    "$$p(x) := \\frac{1}{\\sqrt{2\\pi v}}\n",
    "  \\exp\\left(-\\frac{(x-m)^2}{2 v}\\right)$$"
   ]
  },
  {
   "cell_type": "code",
   "execution_count": 28,
   "metadata": {},
   "outputs": [],
   "source": [
    "def _gauss(x,m,v):\n",
    "    return 1.0/np.sqrt(2*np.pi*v) * np.exp(-(x-m)**2/(2*v))\n",
    "    \n",
    "gauss = np.vectorize(_gauss,excluded=['m','v'])"
   ]
  },
  {
   "cell_type": "code",
   "execution_count": 29,
   "metadata": {},
   "outputs": [
    {
     "data": {
      "image/png": "[encoded data removed]",
      "text/plain": [
       "<matplotlib.figure.Figure at 0x7f4bf0aacf98>"
      ]
     },
     "metadata": {},
     "output_type": "display_data"
    }
   ],
   "source": [
    "plot_density(xx, gauss(xx,-1,0.5))\n",
    "plt.savefig('figs/Ch04_gauss.eps', bbox_inches='tight')"
   ]
  },
  {
   "cell_type": "markdown",
   "metadata": {},
   "source": [
    "## 4.2.3 ラプラス分布"
   ]
  },
  {
   "cell_type": "markdown",
   "metadata": {},
   "source": [
    "$$ p(x) := \\frac{1}{\\sqrt{2v}}\n",
    "  \\exp\\left(-\\sqrt{\\frac{2(x-m)^2}{v}}\\right)$$"
   ]
  },
  {
   "cell_type": "code",
   "execution_count": 30,
   "metadata": {},
   "outputs": [],
   "source": [
    "def _laplace(x,m,v):\n",
    "    return 1.0/np.sqrt(2*v) * np.exp(-np.sqrt(2*(x-m)**2 /v))\n",
    "    \n",
    "laplace = np.vectorize(_laplace,excluded=['m','v'])"
   ]
  },
  {
   "cell_type": "code",
   "execution_count": 31,
   "metadata": {},
   "outputs": [
    {
     "data": {
      "image/png": "[encoded data removed]",
      "text/plain": [
       "<matplotlib.figure.Figure at 0x7f4bf073e780>"
      ]
     },
     "metadata": {},
     "output_type": "display_data"
    }
   ],
   "source": [
    "plot_density(xx,laplace(xx,0,0.5), label='Laplace')\n",
    "plot_density(xx,gauss(xx,0,0.5), spec='k--', label='Gauss', reset=False)\n",
    "plt.savefig('figs/Ch04_laplace.eps', bbox_inches='tight')"
   ]
  },
  {
   "cell_type": "markdown",
   "metadata": {},
   "source": [
    "同じグラフを対数プロット"
   ]
  },
  {
   "cell_type": "code",
   "execution_count": 32,
   "metadata": {},
   "outputs": [
    {
     "data": {
      "image/png": "[encoded data removed]",
      "text/plain": [
       "<matplotlib.figure.Figure at 0x7f4bf0561278>"
      ]
     },
     "metadata": {},
     "output_type": "display_data"
    }
   ],
   "source": [
    "plot_density(xx,laplace(xx,0,0.5), label='Laplace')\n",
    "plt.yscale(\"log\")\n",
    "plot_density(xx,gauss(xx,0,0.5), spec='k--', label='Gauss', reset=False)\n",
    "plt.savefig('figs/Ch04_laplace_log.eps', bbox_inches='tight')"
   ]
  },
  {
   "cell_type": "markdown",
   "metadata": {},
   "source": [
    "$x=4$ の発生頻度で比較すると，正規分布(gauss)の頻度は 1/100,000,000,000 程度なのに，ラプラス分布(laplace)では 1/10,000 程度の頻度となる．その差は10,000,000倍である．"
   ]
  },
  {
   "cell_type": "code",
   "execution_count": 33,
   "metadata": {},
   "outputs": [
    {
     "name": "stdout",
     "output_type": "stream",
     "text": [
      "0.00033546262790251185\n",
      "6.349117335933279e-08\n",
      "5283.610463519667\n"
     ]
    }
   ],
   "source": [
    "print(laplace(4,0,0.5))\n",
    "print(gauss(4,0,0.5))\n",
    "print(laplace(4,0,0.5)/gauss(4,0,0.5))"
   ]
  }
 ],
 "metadata": {
  "kernelspec": {
   "display_name": "Python 3",
   "language": "python",
   "name": "python3"
  },
  "language_info": {
   "codemirror_mode": {
    "name": "ipython",
    "version": 3
   },
   "file_extension": ".py",
   "mimetype": "text/x-python",
   "name": "python",
   "nbconvert_exporter": "python",
   "pygments_lexer": "ipython3",
   "version": "3.6.4"
  }
 },
 "nbformat": 4,
 "nbformat_minor": 2
}
