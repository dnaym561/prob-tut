{
 "cells": [
  {
   "cell_type": "markdown",
   "metadata": {},
   "source": [
    "# 第3章 ランダム現象の例"
   ]
  },
  {
   "cell_type": "code",
   "execution_count": 1,
   "metadata": {},
   "outputs": [],
   "source": [
    "import numpy as np\n",
    "import matplotlib.pyplot as plt\n",
    "from scipy.integrate import ode\n",
    "from numpy.random import *"
   ]
  },
  {
   "cell_type": "markdown",
   "metadata": {},
   "source": [
    "### 参考\n",
    "* [Pythonで常微分方程式を解く](https://qiita.com/tobira-code/items/d76ed91a88f112b4a474)\n",
    "\n",
    "### 乱数シードの指定（テキスト掲載用）\n",
    "\n",
    "拙著に掲載の標本路を再現するため，シードを明示しておきます．本来は必要ないので，コメントアウトしてもいいです．"
   ]
  },
  {
   "cell_type": "code",
   "execution_count": 2,
   "metadata": {},
   "outputs": [],
   "source": [
    "np.random.seed(123)"
   ]
  },
  {
   "cell_type": "markdown",
   "metadata": {},
   "source": [
    "## 3.1 射撃実験"
   ]
  },
  {
   "cell_type": "code",
   "execution_count": 3,
   "metadata": {},
   "outputs": [],
   "source": [
    "m = 1\n",
    "c = 0.0051\n",
    "g = 9.8\n",
    "t0 = 0.0\n",
    "v0 = 800.0 * np.array([np.cos(1e-3), np.sin(1e-3)])\n",
    "Dt = 0.001\n",
    "inv_sqrtDt = 1.0/np.sqrt(Dt) \n",
    "\n",
    "def eom(t, xx, ff): # 式(3.1)の運動方程式\n",
    "    # xx[0]=x, xx[1]=dx/dt, xx[2]=y, xx[3]=dy/dt\n",
    "    # 外乱　ff[0]=x成分, ff[1]=y成分\n",
    "    dx = [ xx[1], \\\n",
    "           ( -c*np.abs(xx[1])*xx[1] + ff[0] )/m, \\\n",
    "           xx[3], \\\n",
    "           ( -c*np.abs(xx[3])*xx[3] -m*g + ff[1] )/m ]\n",
    "    return dx\n",
    "\n",
    "solver = ode(eom).set_integrator('dopri5')\n",
    "#solver = ode(eom).set_integrator('vode', method='adams')\n",
    "\n",
    "def get_random_motion(seed_num, noise_intensity):\n",
    "    solver.set_initial_value( [0, v0[0], 0, v0[1] ], t0 )\n",
    "    motion = [[0,0]]\n",
    "    seed(seed_num)\n",
    "    while solver.y[0] < 100:\n",
    "        ff = noise_intensity*randn(2)*inv_sqrtDt #不規則な力．/sqrt_Dt はノイズ強度の補正\n",
    "        solver.set_f_params( ff )\n",
    "        solver.integrate(solver.t + Dt)\n",
    "        motion += [[ solver.y[0], solver.y[2] ]]\n",
    "    return np.array(motion)"
   ]
  },
  {
   "cell_type": "markdown",
   "metadata": {},
   "source": [
    "### 図3.1"
   ]
  },
  {
   "cell_type": "code",
   "execution_count": 4,
   "metadata": {},
   "outputs": [],
   "source": [
    "motion = get_random_motion(0, 0.0)  # 外乱なし\n",
    "ts = [(t0 + Dt*i) for i in range(len(motion))]"
   ]
  },
  {
   "cell_type": "code",
   "execution_count": 5,
   "metadata": {},
   "outputs": [],
   "source": [
    "def plot_motion(motion):\n",
    "    fig, ax = plt.subplots(1, 1, figsize=(5, 2), sharex=True)\n",
    "    ax.set_ylim([-2e-2,4e-2])\n",
    "    ax.set_xlabel('$x$ [m]', fontsize=12)\n",
    "    ax.set_ylabel('$y$ [m]', fontsize=12)\n",
    "    ax.grid()\n",
    "    def plot(mot):\n",
    "        ax.plot(mot[:,0], mot[:,1], 'k-', linewidth=0.7)\n",
    "        ax.plot(mot[-1,0], mot[-1,1], 'ko', markersize=5, markerfacecolor='w',\n",
    "             markeredgewidth=1.0, markeredgecolor='k', alpha=0.7) # 着弾点    \n",
    "    if isinstance(motion, list):\n",
    "        for mot in motion:\n",
    "            plot(mot)\n",
    "    else:\n",
    "        plot(motion)"
   ]
  },
  {
   "cell_type": "code",
   "execution_count": 6,
   "metadata": {
    "scrolled": true
   },
   "outputs": [
    {
     "data": {
      "image/png": "[encoded data removed]",
      "text/plain": [
       "<matplotlib.figure.Figure at 0x7fda365a7e10>"
      ]
     },
     "metadata": {},
     "output_type": "display_data"
    }
   ],
   "source": [
    "plot_motion(motion)\n",
    "plt.savefig('figs/Ch03-gun_clean.eps', bbox_inches='tight')"
   ]
  },
  {
   "cell_type": "markdown",
   "metadata": {},
   "source": [
    "### 図3.2"
   ]
  },
  {
   "cell_type": "code",
   "execution_count": 7,
   "metadata": {},
   "outputs": [],
   "source": [
    "def get_random_motionS( s, n_sample ):\n",
    "    return [get_random_motion( 321+i, s ) for i in range(n_sample)] \n",
    "    # 321+i は乱数のシード．321は宇都宮市の郵便番号（任意の整数）"
   ]
  },
  {
   "cell_type": "code",
   "execution_count": 8,
   "metadata": {},
   "outputs": [
    {
     "name": "stdout",
     "output_type": "stream",
     "text": [
      "CPU times: user 220 ms, sys: 18.8 ms, total: 239 ms\n",
      "Wall time: 212 ms\n"
     ]
    }
   ],
   "source": [
    "%%time\n",
    "motions20 = get_random_motionS( 0.15, 21 )\n",
    "xend20 = np.array([a[-1,0] for a in motions20])\n",
    "yend20 = np.array([a[-1,1] for a in motions20])"
   ]
  },
  {
   "cell_type": "markdown",
   "metadata": {},
   "source": [
    "《著者PC参考》\n",
    "```\n",
    "CPU times: user 186 ms, sys: 4.06 ms, total: 190 ms\n",
    "Wall time: 193 ms\n",
    "```"
   ]
  },
  {
   "cell_type": "code",
   "execution_count": 9,
   "metadata": {},
   "outputs": [
    {
     "data": {
      "image/png": "[encoded data removed]",
      "text/plain": [
       "<matplotlib.figure.Figure at 0x7fda2dd59a90>"
      ]
     },
     "metadata": {},
     "output_type": "display_data"
    }
   ],
   "source": [
    "plot_motion(motions20)\n",
    "plt.savefig('figs/Ch03-gun_20.eps', bbox_inches='tight')"
   ]
  },
  {
   "cell_type": "markdown",
   "metadata": {},
   "source": [
    "## 3.2 確率変数"
   ]
  },
  {
   "cell_type": "markdown",
   "metadata": {},
   "source": [
    "### 式(3.2)"
   ]
  },
  {
   "cell_type": "code",
   "execution_count": 10,
   "metadata": {},
   "outputs": [
    {
     "data": {
      "text/plain": [
       "array([-0.00431436, -0.00094219,  0.0004355 , -0.00921597,  0.00798405,\n",
       "       -0.00108188, -0.00124944,  0.0111891 ,  0.00725296, -0.0038258 ,\n",
       "       -0.00237745,  0.00508466, -0.00579842, -0.0003055 ,  0.00167325,\n",
       "        0.00121031,  0.00136634,  0.0040884 , -0.00918951, -0.01240914,\n",
       "        0.00204542])"
      ]
     },
     "execution_count": 10,
     "metadata": {},
     "output_type": "execute_result"
    }
   ],
   "source": [
    "Πₙ = yend20\n",
    "Πₙ"
   ]
  },
  {
   "cell_type": "code",
   "execution_count": 11,
   "metadata": {},
   "outputs": [],
   "source": [
    "Ω = np.array(range(21))\n",
    "\n",
    "def _Y(ω):\n",
    "    return yend20[ω]\n",
    "\n",
    "Y = np.vectorize(_Y)"
   ]
  },
  {
   "cell_type": "markdown",
   "metadata": {},
   "source": [
    "### 図3.3 確率変数 $Y(\\omega)$ for $x=100$"
   ]
  },
  {
   "cell_type": "code",
   "execution_count": 12,
   "metadata": {},
   "outputs": [],
   "source": [
    "def plot_variable(idx_set, value_set, y_label, idx_set2=None, value_set2=None, markersize=4, xstep=2):\n",
    "    fig, ax = plt.subplots(1, 1, figsize=(5, 1.5), sharex=True)\n",
    "    ax.set_xlabel('$\\omega$', fontsize=12)\n",
    "    ax.set_ylabel(y_label, fontsize=12)\n",
    "    ax.plot(idx_set, value_set, 'o', markersize=markersize, markerfacecolor='k',\n",
    "             markeredgewidth=0.0, markeredgecolor='k', alpha=0.7) # 着弾点\n",
    "    idx_len=len(idx_set)\n",
    "    if idx_set2 is not None:\n",
    "        idx_len += len(idx_set2)\n",
    "        ax.plot(idx_set2, value_set2, 'o', markersize=1.3*markersize, markerfacecolor='w',\n",
    "                 markeredgewidth=0.25*markersize, markeredgecolor='k', alpha=0.7) # 着弾点\n",
    "    ax.grid(which='major',color='black',linestyle='--')\n",
    "    ax.grid(which='minor',color='black',linestyle='--')\n",
    "    plt.xticks(np.arange(0, idx_len, xstep))"
   ]
  },
  {
   "cell_type": "code",
   "execution_count": 13,
   "metadata": {},
   "outputs": [
    {
     "data": {
      "image/png": "[encoded data removed]",
      "text/plain": [
       "<matplotlib.figure.Figure at 0x7fda2dbe29b0>"
      ]
     },
     "metadata": {},
     "output_type": "display_data"
    }
   ],
   "source": [
    "plot_variable(Ω,Y(Ω),'$Y(\\omega)$ [m]')\n",
    "plt.savefig('figs/Ch03-gun_20_Y.eps', bbox_inches='tight')"
   ]
  },
  {
   "cell_type": "markdown",
   "metadata": {},
   "source": [
    "### 図3.4 確率変数 $Z(\\omega)$ for $x=60$"
   ]
  },
  {
   "cell_type": "code",
   "execution_count": 14,
   "metadata": {
    "scrolled": true
   },
   "outputs": [
    {
     "data": {
      "text/plain": [
       "array([0.03161607, 0.03256218, 0.03270947, 0.02923083, 0.03624681,\n",
       "       0.02968529, 0.0315868 , 0.03613026, 0.03360691, 0.03127163,\n",
       "       0.03063509, 0.03313168, 0.02993802, 0.03270275, 0.03527321,\n",
       "       0.03287142, 0.03310423, 0.03421127, 0.02967569, 0.02737478,\n",
       "       0.03409464])"
      ]
     },
     "execution_count": 14,
     "metadata": {},
     "output_type": "execute_result"
    }
   ],
   "source": [
    "yend20_x60=np.array([motion[motion[:,0]<60][-1,1] for motion in motions20])\n",
    "yend20_x60"
   ]
  },
  {
   "cell_type": "code",
   "execution_count": 15,
   "metadata": {},
   "outputs": [],
   "source": [
    "def _Z(ω):\n",
    "    return yend20_x60[ω]\n",
    "\n",
    "Z = np.vectorize(_Z)"
   ]
  },
  {
   "cell_type": "code",
   "execution_count": 16,
   "metadata": {},
   "outputs": [
    {
     "data": {
      "image/png": "[encoded data removed]",
      "text/plain": [
       "<matplotlib.figure.Figure at 0x7fda2dbcf5c0>"
      ]
     },
     "metadata": {},
     "output_type": "display_data"
    }
   ],
   "source": [
    "plot_variable(Ω,Z(Ω),'$Z(\\omega)$ [m]')\n",
    "plt.savefig('figs/Ch03-gun_20_Z.eps', bbox_inches='tight')"
   ]
  },
  {
   "cell_type": "markdown",
   "metadata": {},
   "source": [
    "### 図3.5 確率変数 $Y(\\omega)$ for $x=100$,  $\\#\\Omega=501$"
   ]
  },
  {
   "cell_type": "code",
   "execution_count": 17,
   "metadata": {},
   "outputs": [
    {
     "name": "stdout",
     "output_type": "stream",
     "text": [
      "CPU times: user 4.42 s, sys: 155 ms, total: 4.58 s\n",
      "Wall time: 4.31 s\n"
     ]
    }
   ],
   "source": [
    "%%time\n",
    "motions500 = get_random_motionS( 0.15, 501 )"
   ]
  },
  {
   "cell_type": "markdown",
   "metadata": {},
   "source": [
    "《著者PC参考》\n",
    "```\n",
    "CPU times: user 4.19 s, sys: 0 ns, total: 4.19 s\n",
    "Wall time: 4.18 s\n",
    "```"
   ]
  },
  {
   "cell_type": "code",
   "execution_count": 18,
   "metadata": {},
   "outputs": [],
   "source": [
    "yend500 = np.array([a[-1,1] for a in motions500])"
   ]
  },
  {
   "cell_type": "code",
   "execution_count": 19,
   "metadata": {},
   "outputs": [],
   "source": [
    "Ω500 = np.array(range(501))\n",
    "\n",
    "def _Y500(ω):\n",
    "    return yend500[ω]\n",
    "\n",
    "Y500 = np.vectorize(_Y500)"
   ]
  },
  {
   "cell_type": "code",
   "execution_count": 20,
   "metadata": {},
   "outputs": [
    {
     "data": {
      "image/png": "[encoded data removed]",
      "text/plain": [
       "<matplotlib.figure.Figure at 0x7fda365c6f98>"
      ]
     },
     "metadata": {},
     "output_type": "display_data"
    }
   ],
   "source": [
    "plot_variable(Ω500,Y500(Ω500),'$Y(\\omega)$ [m]', markersize=2, xstep=50)\n",
    "plt.savefig('figs/Ch03-gun_500_Y.eps', bbox_inches='tight')"
   ]
  },
  {
   "cell_type": "markdown",
   "metadata": {},
   "source": [
    "### おまけ 確率変数 $Z(\\omega)$ for $x=60$,  $\\#\\Omega=501$"
   ]
  },
  {
   "cell_type": "code",
   "execution_count": 21,
   "metadata": {},
   "outputs": [],
   "source": [
    "yend500_x60=np.array([motion[motion[:,0]<60][-1,1] for motion in motions500])"
   ]
  },
  {
   "cell_type": "code",
   "execution_count": 22,
   "metadata": {},
   "outputs": [],
   "source": [
    "def _Z500(ω):\n",
    "    return yend500_x60[ω]\n",
    "\n",
    "Z500 = np.vectorize(_Z500)"
   ]
  },
  {
   "cell_type": "code",
   "execution_count": 23,
   "metadata": {
    "scrolled": true
   },
   "outputs": [
    {
     "data": {
      "image/png": "[encoded data removed]",
      "text/plain": [
       "<matplotlib.figure.Figure at 0x7fda2dc23550>"
      ]
     },
     "metadata": {},
     "output_type": "display_data"
    }
   ],
   "source": [
    "plot_variable(Ω500,Z500(Ω500),'$Y(\\omega)$ [m]', markersize=2, xstep=50)"
   ]
  },
  {
   "cell_type": "markdown",
   "metadata": {},
   "source": [
    "### おまけ 確率変数 $X(\\omega)$, $Z(\\omega)$ for $\\#\\Omega=5001$"
   ]
  },
  {
   "cell_type": "code",
   "execution_count": 24,
   "metadata": {},
   "outputs": [
    {
     "name": "stdout",
     "output_type": "stream",
     "text": [
      "CPU times: user 42.5 s, sys: 512 ms, total: 43 s\n",
      "Wall time: 41.9 s\n"
     ]
    }
   ],
   "source": [
    "%%time\n",
    "motions5000 = get_random_motionS( 0.15, 5001 )\n",
    "yend5000 = np.array([a[-1,1] for a in motions5000])\n",
    "yend5000_x60=np.array([motion[motion[:,0]<60][-1,1] for motion in motions5000])"
   ]
  },
  {
   "cell_type": "markdown",
   "metadata": {},
   "source": [
    "《著者PC参考》\n",
    "```\n",
    "CPU times: user 41.2 s, sys: 342 ms, total: 41.6 s\n",
    "Wall time: 40.9 s\n",
    "```"
   ]
  },
  {
   "cell_type": "markdown",
   "metadata": {},
   "source": [
    "後で使うので保存しておく．"
   ]
  },
  {
   "cell_type": "code",
   "execution_count": 25,
   "metadata": {},
   "outputs": [],
   "source": [
    "np.save('Ch03_Ydata500.npy', yend500)\n",
    "np.save('Ch03_Zdata500.npy', yend500_x60)\n",
    "np.save('Ch03_Ydata5000.npy', yend5000)\n",
    "np.save('Ch03_Zdata5000.npy', yend5000_x60)"
   ]
  },
  {
   "cell_type": "markdown",
   "metadata": {},
   "source": [
    "## 3.3 事象と確率"
   ]
  },
  {
   "cell_type": "markdown",
   "metadata": {},
   "source": [
    "## 3.3.2 事象"
   ]
  },
  {
   "cell_type": "markdown",
   "metadata": {},
   "source": [
    "### 図3.6 事象 {$|Y | \\leq 10^{−3}$} の抽出"
   ]
  },
  {
   "cell_type": "code",
   "execution_count": 26,
   "metadata": {},
   "outputs": [],
   "source": [
    "A = np.where(np.abs(yend20)<1e-3)[0]  #着目した事象\n",
    "Ac = np.setdiff1d(Ω,A)  #その余事象"
   ]
  },
  {
   "cell_type": "code",
   "execution_count": 27,
   "metadata": {},
   "outputs": [
    {
     "data": {
      "text/plain": [
       "array([ 1,  2, 13])"
      ]
     },
     "execution_count": 27,
     "metadata": {},
     "output_type": "execute_result"
    }
   ],
   "source": [
    "A"
   ]
  },
  {
   "cell_type": "code",
   "execution_count": 28,
   "metadata": {},
   "outputs": [
    {
     "data": {
      "image/png": "[encoded data removed]",
      "text/plain": [
       "<matplotlib.figure.Figure at 0x7fda2dce0400>"
      ]
     },
     "metadata": {},
     "output_type": "display_data"
    }
   ],
   "source": [
    "plot_variable(Ac, Y(Ac), '$Y(\\omega)$ [m]', A, Y(A))\n",
    "plt.savefig('figs/Ch03-gun_20_Yev.eps', bbox_inches='tight')"
   ]
  },
  {
   "cell_type": "markdown",
   "metadata": {},
   "source": [
    "### 図3.7 事象 {$|Y | \\leq 10^{−3}$} の抽出 for $\\#\\Omega=501$"
   ]
  },
  {
   "cell_type": "code",
   "execution_count": 29,
   "metadata": {},
   "outputs": [],
   "source": [
    "A500 = np.where(np.abs(yend500)<1e-3)[0]  #着目した事象\n",
    "Ac500 = np.setdiff1d(Ω500,A500)  #その余事象"
   ]
  },
  {
   "cell_type": "code",
   "execution_count": 30,
   "metadata": {
    "scrolled": true
   },
   "outputs": [
    {
     "data": {
      "text/plain": [
       "array([  1,   2,  13,  23,  25,  31,  36,  44,  54,  63,  69,  75,  77,\n",
       "        79,  97, 102, 104, 107, 108, 120, 121, 134, 136, 141, 143, 146,\n",
       "       149, 150, 151, 157, 158, 159, 165, 166, 177, 191, 210, 214, 217,\n",
       "       220, 222, 223, 236, 252, 253, 255, 259, 273, 281, 289, 308, 316,\n",
       "       317, 338, 348, 353, 355, 356, 364, 369, 371, 389, 400, 401, 413,\n",
       "       417, 436, 444, 468, 481, 496])"
      ]
     },
     "execution_count": 30,
     "metadata": {},
     "output_type": "execute_result"
    }
   ],
   "source": [
    "A500"
   ]
  },
  {
   "cell_type": "code",
   "execution_count": 31,
   "metadata": {},
   "outputs": [
    {
     "data": {
      "image/png": "[encoded data removed]",
      "text/plain": [
       "<matplotlib.figure.Figure at 0x7fda2db5aba8>"
      ]
     },
     "metadata": {},
     "output_type": "display_data"
    }
   ],
   "source": [
    "plot_variable(Ac500, Y500(Ac500), '$Y(\\omega)$ [m]', A500, Y500(A500), xstep=50, markersize=2)\n",
    "plt.savefig('figs/Ch03-gun_500_Yev.eps', bbox_inches='tight')"
   ]
  },
  {
   "cell_type": "markdown",
   "metadata": {},
   "source": [
    "## 3.3.3 確率"
   ]
  },
  {
   "cell_type": "code",
   "execution_count": null,
   "metadata": {},
   "outputs": [],
   "source": [
    "def get_yends( s, n_sample ):\n",
    "    return np.array([get_random_motion( 321+i, s )[-1,1] for i in range(n_sample)])"
   ]
  },
  {
   "cell_type": "code",
   "execution_count": null,
   "metadata": {},
   "outputs": [],
   "source": [
    "%%time\n",
    "Πhuge = get_yends(0.15,15000)"
   ]
  },
  {
   "cell_type": "markdown",
   "metadata": {},
   "source": [
    "《著者PC参考》\n",
    "```\n",
    "CPU times: user 2min 3s, sys: 1.44 s, total: 2min 4s\n",
    "Wall time: 2min 1s\n",
    "```"
   ]
  },
  {
   "cell_type": "code",
   "execution_count": null,
   "metadata": {},
   "outputs": [],
   "source": [
    "Πbin = np.where(np.abs(Πhuge)<1e-3, 1, 0)"
   ]
  },
  {
   "cell_type": "code",
   "execution_count": null,
   "metadata": {},
   "outputs": [],
   "source": [
    "Πbin"
   ]
  },
  {
   "cell_type": "code",
   "execution_count": null,
   "metadata": {},
   "outputs": [],
   "source": [
    "np.mean(Πbin)"
   ]
  },
  {
   "cell_type": "code",
   "execution_count": null,
   "metadata": {},
   "outputs": [],
   "source": [
    "nΩ=np.array(range(10,15000+1,10))"
   ]
  },
  {
   "cell_type": "code",
   "execution_count": null,
   "metadata": {},
   "outputs": [],
   "source": [
    "nΩ"
   ]
  },
  {
   "cell_type": "code",
   "execution_count": null,
   "metadata": {},
   "outputs": [],
   "source": [
    "P_of_n = [np.mean(Πbin[:n]) for n in nΩ]"
   ]
  },
  {
   "cell_type": "code",
   "execution_count": null,
   "metadata": {},
   "outputs": [],
   "source": [
    "fig, ax = plt.subplots(1, 1, figsize=(5, 2), sharex=True)\n",
    "ax.set_xlabel('$\\#\\Omega$', fontsize=12)\n",
    "ax.set_ylabel('$P$', fontsize=12)\n",
    "ax.grid(linestyle='--')\n",
    "plt.xticks(np.arange(0, max(nΩ)+1, 3000))\n",
    "ax.plot(nΩ,P_of_n,'k-',linewidth=0.7)\n",
    "plt.tight_layout()\n",
    "plt.savefig('figs/Ch03-gun_YevP.eps', bb_inches='tight')"
   ]
  },
  {
   "cell_type": "code",
   "execution_count": null,
   "metadata": {},
   "outputs": [],
   "source": []
  }
 ],
 "metadata": {
  "kernelspec": {
   "display_name": "Python 3",
   "language": "python",
   "name": "python3"
  },
  "language_info": {
   "codemirror_mode": {
    "name": "ipython",
    "version": 3
   },
   "file_extension": ".py",
   "mimetype": "text/x-python",
   "name": "python",
   "nbconvert_exporter": "python",
   "pygments_lexer": "ipython3",
   "version": "3.6.4"
  }
 },
 "nbformat": 4,
 "nbformat_minor": 2
}
