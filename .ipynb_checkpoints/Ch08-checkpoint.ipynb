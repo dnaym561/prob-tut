{
 "cells": [
  {
   "cell_type": "markdown",
   "metadata": {},
   "source": [
    "# 第8章 推定問題と直交射影"
   ]
  },
  {
   "cell_type": "code",
   "execution_count": 1,
   "metadata": {},
   "outputs": [],
   "source": [
    "import numpy as np\n",
    "import matplotlib.pyplot as plt"
   ]
  },
  {
   "cell_type": "markdown",
   "metadata": {},
   "source": [
    "#### 乱数シードの指定（テキスト掲載用）\n",
    "拙著に掲載した標本を再現するため，シードを明示しておく．本来は必要ないので，コメントアウトしてよい．"
   ]
  },
  {
   "cell_type": "code",
   "execution_count": 2,
   "metadata": {},
   "outputs": [],
   "source": [
    "np.random.seed(321)"
   ]
  },
  {
   "cell_type": "markdown",
   "metadata": {},
   "source": [
    "## 8.1 最小二乗法"
   ]
  },
  {
   "cell_type": "code",
   "execution_count": 3,
   "metadata": {},
   "outputs": [],
   "source": [
    "def SampleMean(Π):\n",
    "    N = len(Π)\n",
    "    if N == 0:\n",
    "        return False #計算不可能\n",
    "    else:\n",
    "        return sum(Π)/len(Π)\n",
    "    \n",
    "def SampleVariance(Π):\n",
    "    m=SampleMean(Π)  #標本平均\n",
    "    return SampleMean( (Π-m*np.ones_like(Π))**2 )\n",
    "\n",
    "def Cov(X,Y):\n",
    "    mx = SampleMean(X)\n",
    "    my = SampleMean(Y)\n",
    "    return SampleMean(X*Y)-mx*my"
   ]
  },
  {
   "cell_type": "markdown",
   "metadata": {},
   "source": [
    "### サンプルデータの生成"
   ]
  },
  {
   "cell_type": "code",
   "execution_count": 4,
   "metadata": {},
   "outputs": [],
   "source": [
    "means = [0,1] # 期待値ベクトル\n",
    "covmat = [[1,0.5],[0.5,0.3]] # 分散共分散行列\n",
    "# サンプルデータ（2次元正規分布）\n",
    "sample_data = np.random.multivariate_normal(means, covmat, 500)"
   ]
  },
  {
   "cell_type": "code",
   "execution_count": 5,
   "metadata": {},
   "outputs": [
    {
     "data": {
      "image/png": "[encoded data removed]",
      "text/plain": [
       "<matplotlib.figure.Figure at 0x7fe05ee18198>"
      ]
     },
     "metadata": {},
     "output_type": "display_data"
    }
   ],
   "source": [
    "plt.figure(figsize=(4,3))\n",
    "plt.plot(sample_data[:,0],sample_data[:,1],\"k.\",markersize=2)\n",
    "plt.xlabel('x',fontsize=12)\n",
    "plt.ylabel('y',fontsize=12)\n",
    "plt.xlim([-3.5,3.5]); plt.ylim([-1,3.1]);\n",
    "plt.tight_layout()\n",
    "plt.savefig('figs/Ch08-1.eps')"
   ]
  },
  {
   "cell_type": "markdown",
   "metadata": {},
   "source": [
    "#### サンプルデータの平均，分散，相関係数"
   ]
  },
  {
   "cell_type": "code",
   "execution_count": 6,
   "metadata": {},
   "outputs": [],
   "source": [
    "mx = SampleMean(sample_data[:,0])\n",
    "my = SampleMean(sample_data[:,1])\n",
    "sx = np.sqrt(SampleVariance(sample_data[:,0]))\n",
    "sy = np.sqrt(SampleVariance(sample_data[:,1]))\n",
    "ρ= Cov(sample_data[:,0],sample_data[:,1])/(sx*sy)"
   ]
  },
  {
   "cell_type": "markdown",
   "metadata": {},
   "source": [
    "### 条件付き期待値の理論計算"
   ]
  },
  {
   "cell_type": "code",
   "execution_count": 7,
   "metadata": {},
   "outputs": [],
   "source": [
    "xx = np.linspace(-3.5,3.5,100)\n",
    "yy = ρ*(sy/sx)*(xx-mx)+my"
   ]
  },
  {
   "cell_type": "code",
   "execution_count": 8,
   "metadata": {
    "scrolled": true
   },
   "outputs": [
    {
     "data": {
      "image/png": "[encoded data removed]",
      "text/plain": [
       "<matplotlib.figure.Figure at 0x7fe05ee3c0f0>"
      ]
     },
     "metadata": {},
     "output_type": "display_data"
    }
   ],
   "source": [
    "plt.figure(figsize=(4,3))\n",
    "plt.plot(xx,yy,\"k-\")\n",
    "plt.plot(sample_data[:,0],sample_data[:,1],\"k.\",markersize=2)\n",
    "plt.xlim([-3.5,3.5]); plt.ylim([-1,3.1]);\n",
    "plt.xlabel('x',fontsize=12)\n",
    "plt.ylabel('y',fontsize=12)\n",
    "plt.tight_layout()\n",
    "plt.savefig('figs/Ch08-2.eps')"
   ]
  },
  {
   "cell_type": "markdown",
   "metadata": {},
   "source": [
    "## 8.4 確率変数の推定"
   ]
  },
  {
   "cell_type": "markdown",
   "metadata": {},
   "source": [
    "## 8.4.3 条件付き期待値との関係"
   ]
  },
  {
   "cell_type": "markdown",
   "metadata": {},
   "source": [
    "### サンプルデータの生成（標本数を増やした）"
   ]
  },
  {
   "cell_type": "code",
   "execution_count": 9,
   "metadata": {},
   "outputs": [],
   "source": [
    "means = [0,1] #期待値ベクトル\n",
    "covmat = [[1,0.5],[0.5,0.3]] #分散共分散行列\n",
    "sample_huge = np.random.multivariate_normal(means, covmat, 1000000)\n",
    "\n",
    "mx = SampleMean(sample_huge[:,0])\n",
    "my = SampleMean(sample_huge[:,1])\n",
    "sx = np.sqrt(SampleVariance(sample_huge[:,0]))\n",
    "sy = np.sqrt(SampleVariance(sample_huge[:,1]))\n",
    "ρ= Cov(sample_huge[:,0],sample_huge[:,1])/(sx*sy)"
   ]
  },
  {
   "cell_type": "markdown",
   "metadata": {},
   "source": [
    "### 条件付き期待値の理論計算"
   ]
  },
  {
   "cell_type": "code",
   "execution_count": 10,
   "metadata": {},
   "outputs": [],
   "source": [
    "xx = np.linspace(-6,6,50)\n",
    "yy = ρ*(sy/sx)*(xx-mx)+my"
   ]
  },
  {
   "cell_type": "markdown",
   "metadata": {},
   "source": [
    "### 条件付き期待値（数値計算）"
   ]
  },
  {
   "cell_type": "code",
   "execution_count": 11,
   "metadata": {},
   "outputs": [],
   "source": [
    "# x軸上にとる狭い区間の幅\n",
    "eps = 0.01*(sample_huge[:,0].max() - sample_huge[:,0].min()) \n",
    "\n",
    "# 区間内のyの平均\n",
    "def conditional_mean( data, x_val, eps ):\n",
    "    x_data = data[:,0]\n",
    "    y_data = data[:,1]\n",
    "    indexes, = np.where( np.abs(x_data - x_val) < eps ) #xが区間に収まる点のインデックス\n",
    "    extracted = y_data[indexes]\n",
    "    return SampleMean(extracted)"
   ]
  },
  {
   "cell_type": "markdown",
   "metadata": {},
   "source": [
    "#### 計算結果"
   ]
  },
  {
   "cell_type": "code",
   "execution_count": 12,
   "metadata": {},
   "outputs": [],
   "source": [
    "xx_num = np.linspace(sample_huge[:,0].min(),sample_huge[:,0].max(),50)\n",
    "yy_num = [conditional_mean(sample_huge, x, eps) for x in xx_num]"
   ]
  },
  {
   "cell_type": "code",
   "execution_count": 13,
   "metadata": {},
   "outputs": [
    {
     "data": {
      "image/png": "[encoded data removed]",
      "text/plain": [
       "<matplotlib.figure.Figure at 0x7fe05c03cd30>"
      ]
     },
     "metadata": {},
     "output_type": "display_data"
    }
   ],
   "source": [
    "plt.figure(figsize=(5,2.5))\n",
    "plt.plot(xx_num,yy_num, label=\"Numerical\", markersize=5, color=\"w\", marker=\"o\", markeredgecolor=\"k\" )\n",
    "plt.plot(xx,yy,\"k-\", label=\"Theoretical\", alpha=0.5)\n",
    "plt.xlim([-6,6])\n",
    "plt.xlabel('$X$',fontsize=12)\n",
    "plt.ylabel('$\\hat Y = E[Y|X]$',fontsize=12)\n",
    "plt.legend(); plt.grid()\n",
    "plt.tight_layout()\n",
    "plt.savefig('figs/Ch08-CondMean.eps')"
   ]
  },
  {
   "cell_type": "markdown",
   "metadata": {},
   "source": [
    "実線は理論式(算法8.3)$$\\hat Y = \\rho_{XY}\\frac{\\sigma_Y}{\\sigma_X}(X - m_X) + m_Y$$のグラフ，○印は数値計算による近似値を表す．"
   ]
  },
  {
   "cell_type": "markdown",
   "metadata": {},
   "source": [
    "周辺部は点が疎らなため，数値計算（○印）の精度が落ちている．"
   ]
  },
  {
   "cell_type": "code",
   "execution_count": null,
   "metadata": {},
   "outputs": [],
   "source": []
  }
 ],
 "metadata": {
  "kernelspec": {
   "display_name": "Python 3",
   "language": "python",
   "name": "python3"
  },
  "language_info": {
   "codemirror_mode": {
    "name": "ipython",
    "version": 3
   },
   "file_extension": ".py",
   "mimetype": "text/x-python",
   "name": "python",
   "nbconvert_exporter": "python",
   "pygments_lexer": "ipython3",
   "version": "3.6.4"
  }
 },
 "nbformat": 4,
 "nbformat_minor": 2
}
