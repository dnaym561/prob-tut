{
 "cells": [
  {
   "cell_type": "markdown",
   "metadata": {},
   "source": [
    "# 第14章 パラメータ推定への応用と拡張（EnKF）"
   ]
  },
  {
   "cell_type": "code",
   "execution_count": 1,
   "metadata": {},
   "outputs": [],
   "source": [
    "import numpy as np\n",
    "from scipy.integrate import ode\n",
    "import matplotlib.pyplot as plt"
   ]
  },
  {
   "cell_type": "markdown",
   "metadata": {},
   "source": [
    "#### 乱数シードの指定（テキスト掲載用）\n",
    "拙著に掲載の標本路を再現するため，シードを明示しておきます．本来は必要ないので，コメントアウトしてもいいです．"
   ]
  },
  {
   "cell_type": "code",
   "execution_count": 2,
   "metadata": {},
   "outputs": [],
   "source": [
    "np.random.seed(123)"
   ]
  },
  {
   "cell_type": "markdown",
   "metadata": {},
   "source": [
    "## 本章の共通設定"
   ]
  },
  {
   "cell_type": "code",
   "execution_count": 3,
   "metadata": {},
   "outputs": [
    {
     "name": "stdout",
     "output_type": "stream",
     "text": [
      "import numpy as np\n",
      "import matplotlib.pyplot as plt\n",
      "\n",
      "### デフォルト値\n",
      "default_values = ( #Q, R, C, D, x0, dt, tn, p_list\n",
      "    np.diag([0.0001,0.0001]), #Q:  システム雑音の共分散\n",
      "    np.array([[0.0001]]),     #R:  観測雑音の共分散\n",
      "    np.array([[1, 0]]),       #C:  変位のみ\n",
      "    np.eye(2),                #D:  駆動行列\n",
      "    np.array([0.0, 0.0]),     #x0: 初期値\n",
      "    0.02,                     #dt: 時間ステップ\n",
      "    2000,                     #tn: 時系列長\n",
      "    [1, 0.2, 1],              #p_list: k, c, a\n",
      ")\n",
      "\n",
      "### 外部励振\n",
      "def Forcing(t):\n",
      "    return np.sin(1.5*t)\n",
      "\n",
      "### 拡大系の導出\n",
      "def get_extended_system(x0, Q, D, C, A=None, Qval=1.2):\n",
      "        \n",
      "    ex0 = np.append(x0, [0.0])\n",
      "    # 拡大系\n",
      "    if A is not None:\n",
      "        eA = np.pad(A, (0,1), 'constant') #Aを1行1列拡大して0で埋める\n",
      "        eA[-2,-1] = 1 #必要箇所に1を代入する\n",
      "    else:\n",
      "        eA = None\n",
      "    # 推定パラメータにもシステム雑音を仮定（無いと推定パラメータが動かなくなる）\n",
      "    eD = np.pad(D, (0,1), 'constant')\n",
      "    eD[-1,-1] = 1\n",
      "    # 推定パラメータは観測できないとする\n",
      "    eC = np.pad(C, (0,1), 'constant')\n",
      "    eC = np.delete(eC, axis=0, obj=-1)\n",
      "    # 推定パラメータ用のシステム雑音強度を追加\n",
      "    eQ = np.pad(Q, (0,1), 'constant')\n",
      "    eQ[-1,-1] = Qval    #あまり小さいと収束が遅いが，大きすぎても効果なし．\n",
      "\n",
      "    print('Extended x0 =\\n',ex0)\n",
      "    print('Extended A =\\n',eA)\n",
      "    print('Extended D =\\n',eD)\n",
      "    print('Extended C =\\n',eC)\n",
      "    print('Extended Q =\\n',eQ)\n",
      "        \n",
      "    if A is not None:\n",
      "        return (ex0, eQ, eD, eC, eA)\n",
      "    else:\n",
      "        return (ex0, eQ, eD, eC)\n",
      "\n",
      "\n",
      "### サンプルデータの取得\n",
      "from class_SDE import * #実行フォルダにclass_SDE.pyを置いてインポートします．\n",
      "\n",
      "class model_1dof_tv(class_SDE): #class_SDEの子クラス, 1自由度振動系，時変パラメータ\n",
      "\n",
      "    def __init__(s, p_idx, p1, p2, t1=None):\n",
      "        \n",
      "        Q, R, C, D, x0, dt, tn, p_list = default_values\n",
      "        s.C = C\n",
      "        s.D = D\n",
      "        s.tn = tn\n",
      "        s.p_list = p_list.copy()\n",
      "        \n",
      "        xdim = 2               #状態の次元\n",
      "        ydim = s.C.shape[0] #観測の次元＝Cの行数\n",
      "        t0 = 0.0\n",
      "        \n",
      "        super().__init__(xdim, ydim, Q, R)\n",
      "        s.setup(x0, dt, t0)\n",
      "\n",
      "        # 時刻t1で変化するパラメータ\n",
      "        s.p_idx  = p_idx   \n",
      "        s.p1 = p1\n",
      "        s.p2 = p2\n",
      "        if t1 is None:\n",
      "            s.t1=(s.tn*s.dt)/2\n",
      "        else:\n",
      "            s.t1 = t1\n",
      "        \n",
      "    ### 状態方程式の定義(必須)\n",
      "    def StateEqn(s, t, x):\n",
      "        \n",
      "        if t<s.t1:\n",
      "            s.p_list[s.p_idx] = s.p1\n",
      "        else:\n",
      "            s.p_list[s.p_idx] = s.p2\n",
      "               \n",
      "        k, c, a = s.p_list\n",
      "        Dw = np.ravel(s.D.dot(s.w))\n",
      "        \n",
      "        s.dx[0] = x[1] + Dw[0]\n",
      "        s.dx[1] = - k*x[0] - c*x[1] + a*Forcing(t) + Dw[1]\n",
      "        \n",
      "        return s.dx\n",
      "    \n",
      "    ### 観測方程式の定義(必須)\n",
      "    def OutputEqn(s, x):\n",
      "        return s.C.dot(x)\n",
      "    \n",
      "    ### サンプルデータの取得\n",
      "    def get_sample_path(s): \n",
      "        s.tt, s.xx, s.yy = super().get_sample_path(s.tn)\n",
      "        s.param = np.zeros_like(s.tt)\n",
      "        for i, t in enumerate(s.tt):\n",
      "            if t<s.t1:\n",
      "                s.param[i] = s.p1\n",
      "            else:\n",
      "                s.param[i] = s.p2\n",
      "\n",
      "### プロット\n",
      "def plot(cls, param_label='Parameter'):\n",
      "\n",
      "    fig, ax = plt.subplots(3, 1, figsize=(4,4))\n",
      "\n",
      "    lb_exa = 'Exact'\n",
      "    ls_exa = ':'\n",
      "    lc_exa = 'black'\n",
      "    lw_exa = 1.5\n",
      "    lw_est = 1.5\n",
      "\n",
      "    ax[0].plot(cls.tt, cls.xx[:,0],  ls_exa, label=lb_exa, color=lc_exa, linewidth=lw_exa )\n",
      "    ax[0].plot(cls.tt, cls.xxf[:,0], '-', label='Estimated', color='black',   linewidth=lw_est )\n",
      "    ax[0].set_ylabel('$x_1$', fontsize=12)\n",
      "    ax[0].legend(bbox_to_anchor=(1.0, 0.85), loc='lower right', ncol=2)\n",
      "\n",
      "    ax[1].plot(cls.tt, cls.xx[:,1], ls_exa, label=None, color=lc_exa,  linewidth=lw_exa )\n",
      "    ax[1].plot(cls.tt, cls.xxf[:,1],   '-', label=None, color='black', linewidth=lw_est )\n",
      "    ax[1].set_ylabel('$x_2$', fontsize=12)\n",
      "\n",
      "    for i in range(2):\n",
      "        plt.setp(ax[i].get_xticklabels(),visible=False)\n",
      "        ax[i].grid(); \n",
      "\n",
      "    ax[2].plot(cls.tt, cls.param, ls_exa, label=lb_exa,  color=lc_exa,  linewidth=lw_exa )\n",
      "    ax[2].plot(cls.tt, cls.xxf[:,2], '-', label='Estimated', color='black', linewidth=lw_est )\n",
      "    ax[2].set_ylabel(param_label, fontsize=12)\n",
      "    ax[2].set_xlabel('$t$', fontsize=12)\n",
      "    ax[2].grid(); \n",
      "        \n",
      "    plt.tight_layout()\n",
      "\n",
      "def save(filename):\n",
      "    plt.savefig(filename, bbox_inches=\"tight\")\n"
     ]
    }
   ],
   "source": [
    "import Ch14_common as my\n",
    "for line in open('Ch14_common.py'): print(line[:-1])"
   ]
  },
  {
   "cell_type": "markdown",
   "metadata": {},
   "source": [
    "### 標本路の取得テスト"
   ]
  },
  {
   "cell_type": "code",
   "execution_count": 4,
   "metadata": {},
   "outputs": [
    {
     "data": {
      "text/plain": [
       "[<matplotlib.lines.Line2D at 0x7f1dbcc08630>,\n",
       " <matplotlib.lines.Line2D at 0x7f1dbcc08898>]"
      ]
     },
     "execution_count": 4,
     "metadata": {},
     "output_type": "execute_result"
    },
    {
     "data": {
      "image/png": "[encoded data removed]",
      "text/plain": [
       "<matplotlib.figure.Figure at 0x7f1deb190160>"
      ]
     },
     "metadata": {},
     "output_type": "display_data"
    }
   ],
   "source": [
    "sim = my.model_1dof_tv(p_idx=2, p1=3, p2=1)\n",
    "sim.get_sample_path()\n",
    "plt.plot(sim.tt, sim.xx)"
   ]
  },
  {
   "cell_type": "markdown",
   "metadata": {},
   "source": [
    "## 14.3 アンサンブルカルマンフィルタ"
   ]
  },
  {
   "cell_type": "markdown",
   "metadata": {},
   "source": [
    "### 算法14.2 (EnKF)"
   ]
  },
  {
   "cell_type": "code",
   "execution_count": 5,
   "metadata": {
    "scrolled": true
   },
   "outputs": [
    {
     "name": "stdout",
     "output_type": "stream",
     "text": [
      "import numpy as np\n",
      "from scipy.integrate import ode\n",
      "\n",
      "class class_EnKF: #アンサンブルカルマンフィルタ(Ensemble Kalman filter)\n",
      "\n",
      "    def __init__(self, xdim, ydim, Q, R, pn):\n",
      "\n",
      "        ### システムのサイズ\n",
      "        self.xdim = xdim #状態の次元\n",
      "        self.ydim = ydim #観測の次元\n",
      "        self.pn   = pn   #アンサンブルの粒子数\n",
      "\n",
      "        ### 雑音\n",
      "        self.Q    = np.array(Q)         #システム雑音の共分散\n",
      "        self.wdim = self.Q.shape[0]     #システム雑音の次元\n",
      "        self.w    = np.zeros(self.wdim) #システム雑音ベクトル\n",
      "        self.wav  = np.zeros(self.wdim) #システム雑音の平均 = 0\n",
      "\n",
      "        self.R    = np.array(R)         #観測雑音の共分散\n",
      "        self.vdim = self.R.shape[0]     #観測雑音の次元\n",
      "        self.v    = np.zeros(self.vdim) #観測雑音ベクトル\n",
      "        self.vav  = np.zeros(self.vdim) #観測雑音の平均 = 0\n",
      "        \n",
      "        ### アンサンブル行列\n",
      "        self.Xp = np.zeros((self.xdim, self.pn))  #予測推定アンサンブル\n",
      "        self.Xf = np.zeros_like(self.Xp)          #濾波アンサンブル\n",
      "        self.Yp = np.zeros((self.ydim, self.pn))  #予測出力アンサンブル\n",
      "        self.ones = np.ones((self.pn,1))\n",
      "        \n",
      "        self.bias = self.pn - 1\n",
      "        self.yones = np.ones((self.ydim, self.pn))\n",
      "    \n",
      "    ### 小クラス用の初期化関数\n",
      "    def system_definition(s, F_func, H_func, x0, P0, t0=0):\n",
      "\n",
      "        s.F_func = F_func\n",
      "        s.H_func = H_func\n",
      "        \n",
      "        s.init_ensemble(x0, P0) #アンサンブルの初期化\n",
      "        s.xf = np.mean(s.Xp, axis=1) #濾波推定値の暫定初期値\n",
      "\n",
      "    def state_eqn(s, x): #状態方程式の右辺\n",
      "        s.update_w()\n",
      "        return s.F_func(x, s.t) #s.t は filtering(yt,t) で更新された値\n",
      "        \n",
      "    def output_eqn(s, x): #観測方程式の右辺\n",
      "        s.update_v()\n",
      "        return s.H_func(x) + s.v\n",
      "        \n",
      "    def update_w(s): #システム雑音の更新\n",
      "        if s.wdim == 1:\n",
      "            s.w = np.sqrt(s.Q[0]) * np.random.randn() #正規乱数\n",
      "        else:\n",
      "            s.w = np.random.multivariate_normal(s.wav, s.Q)\n",
      "\n",
      "    def update_v(s): #観測雑音\n",
      "        if s.vdim == 1:\n",
      "            s.v = np.sqrt(s.R[0])*(np.random.randn()) #正規乱数\n",
      "        else:\n",
      "            s.v = np.random.multivariate_normal(s.vav, s.R)\n",
      "        \n",
      "    ### アンサンブルの初期化と更新\n",
      "    def init_ensemble(s, x0, P0):\n",
      "        s.Xp = np.random.multivariate_normal(x0, P0, s.pn).T #(xdim)x(pn)ガウス行列  \n",
      "        \n",
      "    def update_Yp(s): #予測出力アンサンブルの更新\n",
      "        s.Yp = np.apply_along_axis(s.output_eqn, 0, s.Xp)\n",
      "        \n",
      "    def update_Xp(s): #予測推定アンサンブルの更新\n",
      "        s.Xp = np.apply_along_axis(s.state_eqn, 0, s.Xp)\n",
      "        \n",
      "    ### 濾波推定\n",
      "    def filtering(s, yt, t, skip_prediction = False):\n",
      "        \n",
      "        ### フィルタ内の時刻の更新\n",
      "        s.t = t\n",
      "        \n",
      "        ### 予測出力アンサンブルの計算\n",
      "        s.update_Yp()\n",
      "\n",
      "        ### カルマンゲインの計算\n",
      "        s.meanXp = np.mean(s.Xp, axis=1).reshape(-1,1)\n",
      "        s.meanYp = np.mean(s.Yp, axis=1).reshape(-1,1)\n",
      "        s.covXY = s.bias*( np.dot(s.Xp, s.Yp.T)/s.pn - np.dot(s.meanXp, s.meanYp.T) )\n",
      "        s.covYY = s.bias*( np.dot(s.Yp, s.Yp.T)/s.pn - np.dot(s.meanYp, s.meanYp.T) )\n",
      "        s.K = np.dot(s.covXY, np.linalg.pinv(s.covYY))\n",
      "\n",
      "        ### 濾波アンサンブルと濾波推定値の計算\n",
      "        yt_matrix = np.dot(np.diag(yt), s.yones)\n",
      "        s.Xf = s.Xp + np.dot(s.K, (yt_matrix - s.Yp)) #濾波アンサンブル\n",
      "        s.xf = np.mean(s.Xf, axis=1) #濾波推定値\n",
      "    \n",
      "        if skip_prediction is not True:\n",
      "            s.prediction() #予測推定\n",
      "\n",
      "    ### 予測推定\n",
      "    def prediction(s):\n",
      "        s.Xp = s.Xf #濾波推定値を予測の初期値に\n",
      "        s.update_Xp()\n"
     ]
    }
   ],
   "source": [
    "from class_EnKF import *\n",
    "for line in open('class_EnKF.py'): print(line[:-1])"
   ]
  },
  {
   "cell_type": "markdown",
   "metadata": {},
   "source": [
    "### 数値例作成用のクラス"
   ]
  },
  {
   "cell_type": "code",
   "execution_count": 6,
   "metadata": {},
   "outputs": [],
   "source": [
    "import matplotlib.gridspec as gsp\n",
    "import time\n",
    "\n",
    "class EnKF_param(class_EnKF):\n",
    "    \n",
    "    def __init__(s, pn, x0, P0, Qval):\n",
    "\n",
    "        Q, R, C, D, _x0, dt, tn, p_list = my.default_values\n",
    "        _x0, Q, D, C, = my.get_extended_system(_x0, Q, D, C, Qval=Qval)\n",
    "\n",
    "        s.dt = dt                 #時間ステップ\n",
    "        s.C = C\n",
    "        s.D = D*np.sqrt(s.dt)     #離散時間近似のため(算法12.3)\n",
    "        s.p_list = p_list.copy()\n",
    "        xdim = len(x0);           #状態ベクトルの次元\n",
    "        ydim = C.shape[0]         #出力ベクトルの次元\n",
    "        \n",
    "        s.pn = pn\n",
    "        super().__init__(xdim, ydim, Q, R, s.pn)\n",
    "\n",
    "        x0 = np.array(x0)      #初期値\n",
    "        P0 = np.diag(P0)\n",
    "        s.system_definition(s.F_func, s.H_func, x0, P0)\n",
    "        \n",
    "        s.k, s.c, s.a = s.p_list\n",
    "           \n",
    "    def H_func(s, x):\n",
    "        y = s.C.dot(x)\n",
    "        return y\n",
    "\n",
    "    def get_example(s, p_idx, p1, p2):\n",
    "        target = my.model_1dof_tv(p_idx, p1, p2)\n",
    "        target.get_sample_path()\n",
    "        s.tt = target.tt\n",
    "        s.xx = target.xx\n",
    "        s.param = target.param\n",
    "        s.xxf = np.zeros((len(target.tt),3))\n",
    "\n",
    "        start = time.time()\n",
    "        for i, y in enumerate(target.yy):\n",
    "            s.xxf[i] = s.xf\n",
    "            s.filtering(y, s.tt[i])\n",
    "            s.prediction()\n",
    "        elapsed_time = time.time() - start\n",
    "        \n",
    "        return elapsed_time\n",
    "            \n",
    "    def get_example_with_snapshot(s, p_idx, p1, p2):\n",
    "        target = my.model_1dof_tv(p_idx, p1, p2)\n",
    "        target.get_sample_path()\n",
    "        s.tt = target.tt\n",
    "        s.xx = target.xx\n",
    "        s.param = target.param\n",
    "        s.xxf = np.zeros((len(target.tt),3))\n",
    "        s.XpSet = []\n",
    "        s.meanXpSet = []\n",
    "        for i, y in enumerate(target.yy):\n",
    "            s.filtering(y, s.tt[i], skip_prediction=True)\n",
    "            s.xxf[i] = s.xf\n",
    "            s.XpSet.append(s.Xp)\n",
    "            s.meanXpSet.append(s.meanXp)\n",
    "            s.prediction()\n",
    "\n",
    "    def plot(s):\n",
    "        fig = plt.figure(figsize=(5, 4))\n",
    "        gs = gsp.GridSpec(2,2)\n",
    "        ax1 = fig.add_subplot(gs[0,:])\n",
    "        ax2 = fig.add_subplot(gs[1,0])\n",
    "        ax3 = fig.add_subplot(gs[1,1])\n",
    "        for i, t in enumerate(s.tt):\n",
    "            if i%5 == 0:\n",
    "                Xp = s.XpSet[i]\n",
    "                meanXp = s.meanXpSet[i]\n",
    "                ax3.plot(Xp[0,:],Xp[1,:],'k.',markersize=0.5,alpha=0.7)\n",
    "                ax3.plot(meanXp[0],meanXp[1],'r.',markersize=3,alpha=0.7)\n",
    "    \n",
    "        ax1.plot(s.tt, s.xxf[:,2], label='filtered'); ax1.grid()\n",
    "        ax2.plot(s.xxf[:,0], s.xxf[:,1], label='filtered')\n",
    "        ax2.plot(s.xx[:,0], s.xx[:,1], label='original')\n",
    "        ax2.legend()\n",
    "        plt.tight_layout()"
   ]
  },
  {
   "cell_type": "code",
   "execution_count": 7,
   "metadata": {},
   "outputs": [],
   "source": [
    "Elapsed_Times = []"
   ]
  },
  {
   "cell_type": "markdown",
   "metadata": {},
   "source": [
    "### 線形と同じaの同定"
   ]
  },
  {
   "cell_type": "markdown",
   "metadata": {},
   "source": [
    "《著者PC参考》\n",
    "```\n",
    "CPU times: user 59.1 s, sys: 672 µs, total: 59.1 s\n",
    "Wall time: 59.1 s\n",
    "```"
   ]
  },
  {
   "cell_type": "code",
   "execution_count": 8,
   "metadata": {
    "scrolled": true
   },
   "outputs": [
    {
     "name": "stdout",
     "output_type": "stream",
     "text": [
      "Extended x0 =\n",
      " [0. 0. 0.]\n",
      "Extended A =\n",
      " None\n",
      "Extended D =\n",
      " [[1. 0. 0.]\n",
      " [0. 1. 0.]\n",
      " [0. 0. 1.]]\n",
      "Extended C =\n",
      " [[1 0 0]]\n",
      "Extended Q =\n",
      " [[0.0001 0.     0.    ]\n",
      " [0.     0.0001 0.    ]\n",
      " [0.     0.     0.001 ]]\n",
      "CPU times: user 56.6 s, sys: 3.13 ms, total: 56.6 s\n",
      "Wall time: 56.6 s\n"
     ]
    }
   ],
   "source": [
    "%%time\n",
    "class EnKF_a(EnKF_param):\n",
    "    \n",
    "    def __init__(s, pn, x0, P0, Qval):\n",
    "        \n",
    "        super().__init__(pn, x0, P0, Qval)\n",
    "\n",
    "    def F_func(s, x, t):\n",
    "        ff = np.array([\n",
    "            x[1],\n",
    "            - s.k*x[0] - s.c*x[1] + x[2]*my.Forcing(t),\n",
    "            0\n",
    "        ])\n",
    "\n",
    "        Dw = np.ravel(s.D.dot(s.w))\n",
    "        x1 = x + s.dt*ff + Dw \n",
    "\n",
    "        return x1\n",
    "    \n",
    "np.random.seed(123)\n",
    "enkf_a = EnKF_a(pn=100, x0=[0.0, 0.0, 0.0], P0=[0.0001, 0.0001, 0.01], Qval=0.001)\n",
    "etim = enkf_a.get_example(p_idx=2, p1=3, p2=1)\n",
    "Elapsed_Times.append(etim)"
   ]
  },
  {
   "cell_type": "code",
   "execution_count": 9,
   "metadata": {
    "scrolled": true
   },
   "outputs": [
    {
     "name": "stdout",
     "output_type": "stream",
     "text": [
      "[[-0.00035159  0.00081842 -0.01342414]\n",
      " [-0.00495519  0.00172554 -0.00237785]\n",
      " [-0.00397216  0.00194999 -0.00030509]]\n"
     ]
    },
    {
     "data": {
      "image/png": "[encoded data removed]",
      "text/plain": [
       "<matplotlib.figure.Figure at 0x7f1dbcbb6198>"
      ]
     },
     "metadata": {},
     "output_type": "display_data"
    }
   ],
   "source": [
    "print(enkf_a.xxf[:3,:])\n",
    "my.plot(enkf_a,'$a$')\n",
    "my.save('figs/Ch14-EnKF-a.eps')"
   ]
  },
  {
   "cell_type": "markdown",
   "metadata": {},
   "source": [
    "### 線形では解けないkの同定"
   ]
  },
  {
   "cell_type": "code",
   "execution_count": 10,
   "metadata": {
    "scrolled": true
   },
   "outputs": [
    {
     "name": "stdout",
     "output_type": "stream",
     "text": [
      "Extended x0 =\n",
      " [0. 0. 0.]\n",
      "Extended A =\n",
      " None\n",
      "Extended D =\n",
      " [[1. 0. 0.]\n",
      " [0. 1. 0.]\n",
      " [0. 0. 1.]]\n",
      "Extended C =\n",
      " [[1 0 0]]\n",
      "Extended Q =\n",
      " [[0.0001 0.     0.    ]\n",
      " [0.     0.0001 0.    ]\n",
      " [0.     0.     0.0005]]\n"
     ]
    }
   ],
   "source": [
    "class EnKF_k(EnKF_param):\n",
    "    \n",
    "    def __init__(s, pn, x0, P0, Qval):       \n",
    "        super().__init__(pn, x0, P0, Qval)\n",
    "\n",
    "    def F_func(s, x, t):\n",
    "        \n",
    "        ff = np.array([\n",
    "            x[1],\n",
    "            - (x[2])*x[0] - s.c*x[1] + s.a*my.Forcing(t),\n",
    "            0\n",
    "        ])\n",
    "\n",
    "        Dw = np.ravel(s.D.dot(s.w))\n",
    "        x1 = x + s.dt*ff + Dw\n",
    "\n",
    "        return x1\n",
    "\n",
    "np.random.seed(123)\n",
    "enkf_k = EnKF_k(pn=100, x0=[0.0, 0.0, 0.0], P0=[0.0001, 0.0001, 0.00001], Qval=0.0005)\n",
    "etim = enkf_k.get_example(p_idx=0, p1=0.5, p2=1.0) #kを変化させる\n",
    "Elapsed_Times.append(etim)"
   ]
  },
  {
   "cell_type": "code",
   "execution_count": 11,
   "metadata": {},
   "outputs": [
    {
     "data": {
      "image/png": "[encoded data removed]",
      "text/plain": [
       "<matplotlib.figure.Figure at 0x7f1dbcaaa630>"
      ]
     },
     "metadata": {},
     "output_type": "display_data"
    }
   ],
   "source": [
    "my.plot(enkf_k,'$k$')\n",
    "my.save('figs/Ch14-EnKF-k.eps')"
   ]
  },
  {
   "cell_type": "markdown",
   "metadata": {},
   "source": [
    "### 線形では解けないｃの同定"
   ]
  },
  {
   "cell_type": "code",
   "execution_count": 12,
   "metadata": {},
   "outputs": [
    {
     "name": "stdout",
     "output_type": "stream",
     "text": [
      "Extended x0 =\n",
      " [0. 0. 0.]\n",
      "Extended A =\n",
      " None\n",
      "Extended D =\n",
      " [[1. 0. 0.]\n",
      " [0. 1. 0.]\n",
      " [0. 0. 1.]]\n",
      "Extended C =\n",
      " [[1 0 0]]\n",
      "Extended Q =\n",
      " [[0.0001 0.     0.    ]\n",
      " [0.     0.0001 0.    ]\n",
      " [0.     0.     0.0003]]\n"
     ]
    }
   ],
   "source": [
    "class EnKF_c(EnKF_param):\n",
    "    \n",
    "    def __init__(s, pn, x0, P0, Qval):\n",
    "        super().__init__(pn, x0, P0, Qval)\n",
    "\n",
    "    def F_func(s, x, t):\n",
    "        \n",
    "        x[2] = np.abs(x[2]) #減数係数はプラス\n",
    "        \n",
    "        ff = np.array([\n",
    "            x[1],\n",
    "            - s.k*x[0] - (x[2])*x[1] + s.a*my.Forcing(t),\n",
    "            0\n",
    "        ])\n",
    "\n",
    "        Dw = np.ravel(s.D.dot(s.w))\n",
    "        x1 = x + s.dt*ff + Dw\n",
    "\n",
    "        return x1\n",
    "\n",
    "np.random.seed(123)\n",
    "enkf_c = EnKF_c(pn=100, x0=[0.0, 0.0, 0.0], P0=[0.0001, 0.0001, 0.01], Qval=0.0003)\n",
    "etim = enkf_c.get_example(p_idx=1, p1=0.5, p2=1.0) #cを変化させる\n",
    "Elapsed_Times.append(etim)"
   ]
  },
  {
   "cell_type": "code",
   "execution_count": 13,
   "metadata": {},
   "outputs": [
    {
     "data": {
      "image/png": "[encoded data removed]",
      "text/plain": [
       "<matplotlib.figure.Figure at 0x7f1dbcb15da0>"
      ]
     },
     "metadata": {},
     "output_type": "display_data"
    }
   ],
   "source": [
    "my.plot(enkf_c,'$c$')\n",
    "my.save('figs/Ch14-EnKF-c.eps')"
   ]
  },
  {
   "cell_type": "code",
   "execution_count": 14,
   "metadata": {},
   "outputs": [
    {
     "name": "stdout",
     "output_type": "stream",
     "text": [
      "[56.06611204147339, 56.54051899909973, 58.587302923202515]\n"
     ]
    }
   ],
   "source": [
    "print(Elapsed_Times)"
   ]
  }
 ],
 "metadata": {
  "kernelspec": {
   "display_name": "Python 3",
   "language": "python",
   "name": "python3"
  },
  "language_info": {
   "codemirror_mode": {
    "name": "ipython",
    "version": 3
   },
   "file_extension": ".py",
   "mimetype": "text/x-python",
   "name": "python",
   "nbconvert_exporter": "python",
   "pygments_lexer": "ipython3",
   "version": "3.6.4"
  }
 },
 "nbformat": 4,
 "nbformat_minor": 2
}
